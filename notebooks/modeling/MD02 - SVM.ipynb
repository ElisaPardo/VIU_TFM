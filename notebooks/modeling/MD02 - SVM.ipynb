{
 "cells": [
  {
   "cell_type": "markdown",
   "metadata": {},
   "source": [
    "# Modelado: SVM\n"
   ]
  },
  {
   "cell_type": "markdown",
   "metadata": {},
   "source": [
    "### Carga de librerías"
   ]
  },
  {
   "cell_type": "code",
   "execution_count": 1,
   "metadata": {},
   "outputs": [],
   "source": [
    "import pandas as pd\n",
    "import numpy as np\n",
    "# Import mlflow for models tracking\n",
    "import mlflow\n",
    "# Libraries for models and metrics\n",
    "from sklearn.model_selection import train_test_split\n",
    "from sklearn.preprocessing import StandardScaler\n",
    "from sklearn.svm import SVC\n",
    "from sklearn.metrics import accuracy_score, precision_score, recall_score, f1_score, confusion_matrix, roc_auc_score, roc_curve\n",
    "from sklearn.model_selection import GridSearchCV\n",
    "\n",
    "# Visualization libraries\n",
    "import matplotlib.pyplot as plt"
   ]
  },
  {
   "cell_type": "markdown",
   "metadata": {},
   "source": [
    "\n",
    "### Carga de ficheros"
   ]
  },
  {
   "cell_type": "code",
   "execution_count": 2,
   "metadata": {},
   "outputs": [
    {
     "data": {
      "text/html": [
       "<div>\n",
       "<style scoped>\n",
       "    .dataframe tbody tr th:only-of-type {\n",
       "        vertical-align: middle;\n",
       "    }\n",
       "\n",
       "    .dataframe tbody tr th {\n",
       "        vertical-align: top;\n",
       "    }\n",
       "\n",
       "    .dataframe thead th {\n",
       "        text-align: right;\n",
       "    }\n",
       "</style>\n",
       "<table border=\"1\" class=\"dataframe\">\n",
       "  <thead>\n",
       "    <tr style=\"text-align: right;\">\n",
       "      <th></th>\n",
       "      <th>TARGET</th>\n",
       "      <th>DAYS_BIRTH</th>\n",
       "      <th>EXT_SOURCE_3</th>\n",
       "      <th>EXT_SOURCE_1</th>\n",
       "      <th>EXT_SOURCE_2</th>\n",
       "      <th>QTY_ACTIVE_BUREAU</th>\n",
       "      <th>QTY_APP_LAST_YEAR</th>\n",
       "      <th>RATIO_NONAPPROVED</th>\n",
       "    </tr>\n",
       "  </thead>\n",
       "  <tbody>\n",
       "    <tr>\n",
       "      <th>0</th>\n",
       "      <td>1</td>\n",
       "      <td>-9461</td>\n",
       "      <td>0.139376</td>\n",
       "      <td>0.083037</td>\n",
       "      <td>0.262949</td>\n",
       "      <td>2.0</td>\n",
       "      <td>1.0</td>\n",
       "      <td>0.0</td>\n",
       "    </tr>\n",
       "    <tr>\n",
       "      <th>1</th>\n",
       "      <td>0</td>\n",
       "      <td>-16765</td>\n",
       "      <td>0.507626</td>\n",
       "      <td>0.311267</td>\n",
       "      <td>0.622246</td>\n",
       "      <td>1.0</td>\n",
       "      <td>0.0</td>\n",
       "      <td>0.0</td>\n",
       "    </tr>\n",
       "    <tr>\n",
       "      <th>2</th>\n",
       "      <td>0</td>\n",
       "      <td>-13778</td>\n",
       "      <td>0.492060</td>\n",
       "      <td>0.774761</td>\n",
       "      <td>0.724000</td>\n",
       "      <td>4.0</td>\n",
       "      <td>1.0</td>\n",
       "      <td>0.0</td>\n",
       "    </tr>\n",
       "    <tr>\n",
       "      <th>3</th>\n",
       "      <td>0</td>\n",
       "      <td>-10197</td>\n",
       "      <td>0.363945</td>\n",
       "      <td>0.319760</td>\n",
       "      <td>0.651862</td>\n",
       "      <td>2.0</td>\n",
       "      <td>0.0</td>\n",
       "      <td>0.0</td>\n",
       "    </tr>\n",
       "    <tr>\n",
       "      <th>4</th>\n",
       "      <td>0</td>\n",
       "      <td>-13439</td>\n",
       "      <td>0.176653</td>\n",
       "      <td>0.464831</td>\n",
       "      <td>0.715042</td>\n",
       "      <td>4.0</td>\n",
       "      <td>4.0</td>\n",
       "      <td>0.0</td>\n",
       "    </tr>\n",
       "  </tbody>\n",
       "</table>\n",
       "</div>"
      ],
      "text/plain": [
       "   TARGET  DAYS_BIRTH  EXT_SOURCE_3  EXT_SOURCE_1  EXT_SOURCE_2  \\\n",
       "0       1       -9461      0.139376      0.083037      0.262949   \n",
       "1       0      -16765      0.507626      0.311267      0.622246   \n",
       "2       0      -13778      0.492060      0.774761      0.724000   \n",
       "3       0      -10197      0.363945      0.319760      0.651862   \n",
       "4       0      -13439      0.176653      0.464831      0.715042   \n",
       "\n",
       "   QTY_ACTIVE_BUREAU  QTY_APP_LAST_YEAR  RATIO_NONAPPROVED  \n",
       "0                2.0                1.0                0.0  \n",
       "1                1.0                0.0                0.0  \n",
       "2                4.0                1.0                0.0  \n",
       "3                2.0                0.0                0.0  \n",
       "4                4.0                4.0                0.0  "
      ]
     },
     "execution_count": 2,
     "metadata": {},
     "output_type": "execute_result"
    }
   ],
   "source": [
    "df = pd.read_csv(\"../../data/final/df_train_final.csv\")\n",
    "df.head(5)"
   ]
  },
  {
   "cell_type": "markdown",
   "metadata": {},
   "source": [
    "### Dataset final"
   ]
  },
  {
   "cell_type": "markdown",
   "metadata": {},
   "source": [
    "#### Preparación datasets train and test"
   ]
  },
  {
   "cell_type": "code",
   "execution_count": 3,
   "metadata": {},
   "outputs": [],
   "source": [
    "# Separate TARGET variable from dependent variables\n",
    "X = df.drop('TARGET', axis=1)\n",
    "y = df['TARGET']\n",
    "\n",
    "# Divide dataset in train (70%) and test (30%)\n",
    "X_train, X_test, y_train, y_test = train_test_split(X, y, test_size=0.3, random_state=42)\n",
    "\n",
    "# Normalize values\n",
    "scaler = StandardScaler()\n",
    "X_train_scaled = scaler.fit_transform(X_train)\n",
    "X_test_scaled = scaler.transform(X_test)\n",
    "\n",
    "# Generate expermient tracking in MLflow\n",
    "exp_name = 'Model SVM'\n",
    "exp_id = mlflow.create_experiment(name=exp_name)"
   ]
  },
  {
   "cell_type": "markdown",
   "metadata": {},
   "source": [
    "#### Prueba Nro. 1"
   ]
  },
  {
   "cell_type": "code",
   "execution_count": 4,
   "metadata": {},
   "outputs": [
    {
     "name": "stderr",
     "output_type": "stream",
     "text": [
      "2024/11/25 20:24:38 WARNING mlflow.models.model: Model logged without a signature and input example. Please set `input_example` parameter when logging the model to auto infer the model signature.\n"
     ]
    },
    {
     "name": "stdout",
     "output_type": "stream",
     "text": [
      "Distribución final de clases (conteo): [39747 19458]\n",
      "Distribución final de clases (porcentaje): [67.13453256 32.86546744]\n",
      "AUC: 0.7265\n",
      "Accuracy: 69.15%\n",
      "Precision: 0.1432\n",
      "Recall: 0.6366\n",
      "F1-Score: 0.2338\n",
      "Confusion Matrix:\n",
      "[[38156 16671]\n",
      " [ 1591  2787]]\n"
     ]
    }
   ],
   "source": [
    "# Track each run\n",
    "with mlflow.start_run(experiment_id=exp_id, run_name=\"SVM - linear\"):\n",
    "    # Create and train SVM model with probability to calculate AUC and class weight\n",
    "    model = SVC(kernel='linear', probability=True, class_weight='balanced', random_state=42)\n",
    "    trained_model = model.fit(X_train_scaled, y_train)\n",
    "\n",
    "    # Evaluate predictions in test dataset of positive class to calculate AUC\n",
    "    y_pred_auc = trained_model.predict_proba(X_test_scaled)[:, 1]\n",
    "    # Evaluate model for accuracy metric\n",
    "    y_pred = trained_model.predict(X_test_scaled)\n",
    "\n",
    "    # Classes distribution\n",
    "    class_distribution = np.bincount(y_pred, minlength=len(np.unique(y)))\n",
    "    class_distribution_percentage = (class_distribution / len(y_pred)) * 100\n",
    "\n",
    "    # Calculate metrics\n",
    "    auc_score = roc_auc_score(y_test, y_pred_auc)\n",
    "    accuracy = accuracy_score(y_test, y_pred)\n",
    "    precision = precision_score(y_test, y_pred)\n",
    "    recall = recall_score(y_test, y_pred)\n",
    "    f1 = f1_score(y_test, y_pred)\n",
    "    conf_matrix = confusion_matrix(y_test, y_pred)\n",
    "\n",
    "\n",
    "    # Track kernel used for the model\n",
    "    mlflow.log_param('kernel', 'linear')\n",
    "    mlflow.log_param('probability', 'True')\n",
    "    mlflow.log_param('class_weight', 'balanced')\n",
    "\n",
    "    # Track metrics\n",
    "    mlflow.log_metric('roc_auc_score', auc_score)\n",
    "    mlflow.log_metric('accuracy_score', accuracy)\n",
    "    mlflow.log_metric('precision_score', precision)\n",
    "    mlflow.log_metric('recall_score', recall)\n",
    "    mlflow.log_metric('f1_score', f1)\n",
    "\n",
    "    # Save model\n",
    "    mlflow.sklearn.log_model(trained_model, \"SVM - linear\")\n",
    "\n",
    "    # Close MLflow tracking\n",
    "    mlflow.end_run()\n",
    "\n",
    "# Print results\n",
    "print(\"Distribución final de clases (conteo):\", class_distribution)\n",
    "print(\"Distribución final de clases (porcentaje):\", class_distribution_percentage)\n",
    "\n",
    "print(f\"AUC: {auc_score:.4f}\")\n",
    "print(f\"Accuracy: {accuracy * 100:.2f}%\")\n",
    "print(f\"Precision: {precision:.4f}\")\n",
    "print(f\"Recall: {recall:.4f}\")\n",
    "print(f\"F1-Score: {f1:.4f}\")\n",
    "print(\"Confusion Matrix:\")\n",
    "print(conf_matrix)"
   ]
  },
  {
   "cell_type": "code",
   "execution_count": 5,
   "metadata": {},
   "outputs": [
    {
     "data": {
      "image/png": "[encoded data removed]",
      "text/plain": [
       "<Figure size 800x600 with 1 Axes>"
      ]
     },
     "metadata": {},
     "output_type": "display_data"
    }
   ],
   "source": [
    "# Plot ROC curve\n",
    "fpr, tpr, thresholds = roc_curve(y_test, y_pred_auc)\n",
    "plt.figure(figsize=(8, 6))\n",
    "plt.plot(fpr, tpr, label=f\"SVM (AUC = {auc_score:.2f})\", color='red')\n",
    "plt.plot([0, 1], [0, 1], 'k--', lw=2)\n",
    "plt.xlabel('False Positive Rate')\n",
    "plt.ylabel('True Positive Rate')\n",
    "plt.title('ROC Curve')\n",
    "plt.legend(loc=\"lower right\")\n",
    "plt.grid(True)\n",
    "plt.show()"
   ]
  },
  {
   "cell_type": "markdown",
   "metadata": {},
   "source": [
    "#### Prueba Nro. 2\n",
    "\n",
    "Ajuste de hiperparámetros con GridSearchCV"
   ]
  },
  {
   "cell_type": "code",
   "execution_count": null,
   "metadata": {},
   "outputs": [],
   "source": [
    "svc = SVC(probability=True)\n",
    "\n",
    "# Different parameters\n",
    "param_grid = {\n",
    "    'kernel': ['linear', 'rbf', 'poly', 'sigmoid'],  \n",
    "    'C': [0.1, 1, 10, 100],                         \n",
    "    'gamma': ['scale', 'auto'],                   \n",
    "    'degree': [2, 3, 4]                             \n",
    "}\n",
    "\n",
    "# Create GridSearchCV\n",
    "grid_search = GridSearchCV(svc, param_grid, cv=5, scoring='roc_auc')\n",
    "# Train model\n",
    "grid_search.fit(X_train_scaled, y_train)\n",
    "\n",
    "# Find best model\n",
    "best_model = grid_search.best_estimator_\n",
    "y_pred_prob = best_model.predict_proba(X_test_scaled)[:, 1]\n",
    "\n",
    "# Best model results\n",
    "print(f\"Best Kernel: {best_model.kernel}\")\n",
    "print(f\"Best parameters: {grid_search.best_params_}\") \n",
    "print(f\"Best AUC: {grid_search.best_score_:.4f}\")\n",
    "\n",
    "# Evaluate best model\n",
    "auc_score = roc_auc_score(y_test, y_pred_prob)\n",
    "print(f\"AUC in test dataset: {auc_score:.4f}\")"
   ]
  },
  {
   "cell_type": "markdown",
   "metadata": {},
   "source": [
    "Tiempo de ejecución demasiado elevado. El código estuvo días (aprox 1 semana) ejecutándose sin llegar a finalizar."
   ]
  }
 ],
 "metadata": {
  "kernelspec": {
   "display_name": ".venv",
   "language": "python",
   "name": "python3"
  },
  "language_info": {
   "codemirror_mode": {
    "name": "ipython",
    "version": 3
   },
   "file_extension": ".py",
   "mimetype": "text/x-python",
   "name": "python",
   "nbconvert_exporter": "python",
   "pygments_lexer": "ipython3",
   "version": "3.12.3"
  }
 },
 "nbformat": 4,
 "nbformat_minor": 2
}
