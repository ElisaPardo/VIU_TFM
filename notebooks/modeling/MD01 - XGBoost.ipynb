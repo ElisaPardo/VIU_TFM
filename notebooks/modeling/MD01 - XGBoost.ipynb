{
 "cells": [
  {
   "cell_type": "markdown",
   "metadata": {},
   "source": [
    "# Modelado: XGBOOST\n"
   ]
  },
  {
   "cell_type": "markdown",
   "metadata": {},
   "source": [
    "### Carga de librerías"
   ]
  },
  {
   "cell_type": "code",
   "execution_count": 1,
   "metadata": {},
   "outputs": [],
   "source": [
    "import pandas as pd\n",
    "import numpy as np\n",
    "# Import mlflow for models tracking\n",
    "import mlflow\n",
    "# Libraries for models and metrics\n",
    "from sklearn.model_selection import train_test_split\n",
    "from sklearn.metrics import accuracy_score, confusion_matrix, roc_auc_score, roc_curve, f1_score, precision_score, recall_score\n",
    "import xgboost as xgb\n",
    "# Visualization libraries\n",
    "import matplotlib.pyplot as plt\n",
    "\n",
    "# Packages to manage class imbalance\n",
    "from collections import Counter\n",
    "from imblearn.over_sampling import SMOTE"
   ]
  },
  {
   "cell_type": "markdown",
   "metadata": {},
   "source": [
    "\n",
    "### Carga de ficheros"
   ]
  },
  {
   "cell_type": "code",
   "execution_count": 2,
   "metadata": {},
   "outputs": [
    {
     "data": {
      "text/html": [
       "<div>\n",
       "<style scoped>\n",
       "    .dataframe tbody tr th:only-of-type {\n",
       "        vertical-align: middle;\n",
       "    }\n",
       "\n",
       "    .dataframe tbody tr th {\n",
       "        vertical-align: top;\n",
       "    }\n",
       "\n",
       "    .dataframe thead th {\n",
       "        text-align: right;\n",
       "    }\n",
       "</style>\n",
       "<table border=\"1\" class=\"dataframe\">\n",
       "  <thead>\n",
       "    <tr style=\"text-align: right;\">\n",
       "      <th></th>\n",
       "      <th>TARGET</th>\n",
       "      <th>DAYS_BIRTH</th>\n",
       "      <th>EXT_SOURCE_3</th>\n",
       "      <th>EXT_SOURCE_1</th>\n",
       "      <th>EXT_SOURCE_2</th>\n",
       "      <th>QTY_APP_LAST_YEAR</th>\n",
       "      <th>RATIO_NONAPPROVED</th>\n",
       "    </tr>\n",
       "  </thead>\n",
       "  <tbody>\n",
       "    <tr>\n",
       "      <th>0</th>\n",
       "      <td>1</td>\n",
       "      <td>-9461</td>\n",
       "      <td>0.139376</td>\n",
       "      <td>0.083037</td>\n",
       "      <td>0.262949</td>\n",
       "      <td>1.0</td>\n",
       "      <td>0.0</td>\n",
       "    </tr>\n",
       "    <tr>\n",
       "      <th>1</th>\n",
       "      <td>0</td>\n",
       "      <td>-16765</td>\n",
       "      <td>0.507626</td>\n",
       "      <td>0.311267</td>\n",
       "      <td>0.622246</td>\n",
       "      <td>0.0</td>\n",
       "      <td>0.0</td>\n",
       "    </tr>\n",
       "    <tr>\n",
       "      <th>2</th>\n",
       "      <td>0</td>\n",
       "      <td>-13778</td>\n",
       "      <td>0.492060</td>\n",
       "      <td>0.774761</td>\n",
       "      <td>0.724000</td>\n",
       "      <td>1.0</td>\n",
       "      <td>0.0</td>\n",
       "    </tr>\n",
       "    <tr>\n",
       "      <th>3</th>\n",
       "      <td>0</td>\n",
       "      <td>-10197</td>\n",
       "      <td>0.363945</td>\n",
       "      <td>0.319760</td>\n",
       "      <td>0.651862</td>\n",
       "      <td>0.0</td>\n",
       "      <td>0.0</td>\n",
       "    </tr>\n",
       "    <tr>\n",
       "      <th>4</th>\n",
       "      <td>0</td>\n",
       "      <td>-13439</td>\n",
       "      <td>0.176653</td>\n",
       "      <td>0.464831</td>\n",
       "      <td>0.715042</td>\n",
       "      <td>4.0</td>\n",
       "      <td>0.0</td>\n",
       "    </tr>\n",
       "  </tbody>\n",
       "</table>\n",
       "</div>"
      ],
      "text/plain": [
       "   TARGET  DAYS_BIRTH  EXT_SOURCE_3  EXT_SOURCE_1  EXT_SOURCE_2  \\\n",
       "0       1       -9461      0.139376      0.083037      0.262949   \n",
       "1       0      -16765      0.507626      0.311267      0.622246   \n",
       "2       0      -13778      0.492060      0.774761      0.724000   \n",
       "3       0      -10197      0.363945      0.319760      0.651862   \n",
       "4       0      -13439      0.176653      0.464831      0.715042   \n",
       "\n",
       "   QTY_APP_LAST_YEAR  RATIO_NONAPPROVED  \n",
       "0                1.0                0.0  \n",
       "1                0.0                0.0  \n",
       "2                1.0                0.0  \n",
       "3                0.0                0.0  \n",
       "4                4.0                0.0  "
      ]
     },
     "execution_count": 2,
     "metadata": {},
     "output_type": "execute_result"
    }
   ],
   "source": [
    "df = pd.read_csv(\"../../data/final/df_train_final.csv\")\n",
    "df.head(5)"
   ]
  },
  {
   "cell_type": "code",
   "execution_count": 3,
   "metadata": {},
   "outputs": [
    {
     "data": {
      "text/html": [
       "<div>\n",
       "<style scoped>\n",
       "    .dataframe tbody tr th:only-of-type {\n",
       "        vertical-align: middle;\n",
       "    }\n",
       "\n",
       "    .dataframe tbody tr th {\n",
       "        vertical-align: top;\n",
       "    }\n",
       "\n",
       "    .dataframe thead th {\n",
       "        text-align: right;\n",
       "    }\n",
       "</style>\n",
       "<table border=\"1\" class=\"dataframe\">\n",
       "  <thead>\n",
       "    <tr style=\"text-align: right;\">\n",
       "      <th></th>\n",
       "      <th>TARGET</th>\n",
       "      <th>CNT_CHILDREN</th>\n",
       "      <th>AMT_INCOME_TOTAL</th>\n",
       "      <th>AMT_CREDIT</th>\n",
       "      <th>AMT_ANNUITY</th>\n",
       "      <th>AMT_GOODS_PRICE</th>\n",
       "      <th>REGION_POPULATION_RELATIVE</th>\n",
       "      <th>DAYS_BIRTH</th>\n",
       "      <th>DAYS_EMPLOYED</th>\n",
       "      <th>DAYS_REGISTRATION</th>\n",
       "      <th>...</th>\n",
       "      <th>HOUSETYPE_MODE_terraced house</th>\n",
       "      <th>WALLSMATERIAL_MODE_Block</th>\n",
       "      <th>WALLSMATERIAL_MODE_Mixed</th>\n",
       "      <th>WALLSMATERIAL_MODE_Monolithic</th>\n",
       "      <th>WALLSMATERIAL_MODE_Others</th>\n",
       "      <th>WALLSMATERIAL_MODE_Panel</th>\n",
       "      <th>WALLSMATERIAL_MODE_Stone, brick</th>\n",
       "      <th>WALLSMATERIAL_MODE_Wooden</th>\n",
       "      <th>EMERGENCYSTATE_MODE_No</th>\n",
       "      <th>EMERGENCYSTATE_MODE_Yes</th>\n",
       "    </tr>\n",
       "  </thead>\n",
       "  <tbody>\n",
       "    <tr>\n",
       "      <th>0</th>\n",
       "      <td>1</td>\n",
       "      <td>0</td>\n",
       "      <td>202500.0</td>\n",
       "      <td>406597.5</td>\n",
       "      <td>24700.5</td>\n",
       "      <td>351000.0</td>\n",
       "      <td>0.018801</td>\n",
       "      <td>-9461</td>\n",
       "      <td>-637.0</td>\n",
       "      <td>-3648.0</td>\n",
       "      <td>...</td>\n",
       "      <td>0</td>\n",
       "      <td>0</td>\n",
       "      <td>0</td>\n",
       "      <td>0</td>\n",
       "      <td>0</td>\n",
       "      <td>0</td>\n",
       "      <td>1</td>\n",
       "      <td>0</td>\n",
       "      <td>1</td>\n",
       "      <td>0</td>\n",
       "    </tr>\n",
       "    <tr>\n",
       "      <th>1</th>\n",
       "      <td>0</td>\n",
       "      <td>0</td>\n",
       "      <td>270000.0</td>\n",
       "      <td>1293502.5</td>\n",
       "      <td>35698.5</td>\n",
       "      <td>1129500.0</td>\n",
       "      <td>0.003541</td>\n",
       "      <td>-16765</td>\n",
       "      <td>-1188.0</td>\n",
       "      <td>-1186.0</td>\n",
       "      <td>...</td>\n",
       "      <td>0</td>\n",
       "      <td>1</td>\n",
       "      <td>0</td>\n",
       "      <td>0</td>\n",
       "      <td>0</td>\n",
       "      <td>0</td>\n",
       "      <td>0</td>\n",
       "      <td>0</td>\n",
       "      <td>1</td>\n",
       "      <td>0</td>\n",
       "    </tr>\n",
       "    <tr>\n",
       "      <th>2</th>\n",
       "      <td>0</td>\n",
       "      <td>1</td>\n",
       "      <td>171000.0</td>\n",
       "      <td>1560726.0</td>\n",
       "      <td>41301.0</td>\n",
       "      <td>1395000.0</td>\n",
       "      <td>0.035792</td>\n",
       "      <td>-13778</td>\n",
       "      <td>-3130.0</td>\n",
       "      <td>-1213.0</td>\n",
       "      <td>...</td>\n",
       "      <td>0</td>\n",
       "      <td>0</td>\n",
       "      <td>0</td>\n",
       "      <td>0</td>\n",
       "      <td>0</td>\n",
       "      <td>0</td>\n",
       "      <td>0</td>\n",
       "      <td>0</td>\n",
       "      <td>0</td>\n",
       "      <td>0</td>\n",
       "    </tr>\n",
       "    <tr>\n",
       "      <th>3</th>\n",
       "      <td>0</td>\n",
       "      <td>1</td>\n",
       "      <td>112500.0</td>\n",
       "      <td>652500.0</td>\n",
       "      <td>21177.0</td>\n",
       "      <td>652500.0</td>\n",
       "      <td>0.022800</td>\n",
       "      <td>-10197</td>\n",
       "      <td>-679.0</td>\n",
       "      <td>-4427.0</td>\n",
       "      <td>...</td>\n",
       "      <td>0</td>\n",
       "      <td>0</td>\n",
       "      <td>0</td>\n",
       "      <td>0</td>\n",
       "      <td>0</td>\n",
       "      <td>0</td>\n",
       "      <td>0</td>\n",
       "      <td>0</td>\n",
       "      <td>0</td>\n",
       "      <td>0</td>\n",
       "    </tr>\n",
       "    <tr>\n",
       "      <th>4</th>\n",
       "      <td>0</td>\n",
       "      <td>0</td>\n",
       "      <td>67500.0</td>\n",
       "      <td>80865.0</td>\n",
       "      <td>5881.5</td>\n",
       "      <td>67500.0</td>\n",
       "      <td>0.031329</td>\n",
       "      <td>-13439</td>\n",
       "      <td>-2717.0</td>\n",
       "      <td>-311.0</td>\n",
       "      <td>...</td>\n",
       "      <td>0</td>\n",
       "      <td>0</td>\n",
       "      <td>0</td>\n",
       "      <td>0</td>\n",
       "      <td>0</td>\n",
       "      <td>0</td>\n",
       "      <td>0</td>\n",
       "      <td>0</td>\n",
       "      <td>1</td>\n",
       "      <td>0</td>\n",
       "    </tr>\n",
       "  </tbody>\n",
       "</table>\n",
       "<p>5 rows × 230 columns</p>\n",
       "</div>"
      ],
      "text/plain": [
       "   TARGET  CNT_CHILDREN  AMT_INCOME_TOTAL  AMT_CREDIT  AMT_ANNUITY  \\\n",
       "0       1             0          202500.0    406597.5      24700.5   \n",
       "1       0             0          270000.0   1293502.5      35698.5   \n",
       "2       0             1          171000.0   1560726.0      41301.0   \n",
       "3       0             1          112500.0    652500.0      21177.0   \n",
       "4       0             0           67500.0     80865.0       5881.5   \n",
       "\n",
       "   AMT_GOODS_PRICE  REGION_POPULATION_RELATIVE  DAYS_BIRTH  DAYS_EMPLOYED  \\\n",
       "0         351000.0                    0.018801       -9461         -637.0   \n",
       "1        1129500.0                    0.003541      -16765        -1188.0   \n",
       "2        1395000.0                    0.035792      -13778        -3130.0   \n",
       "3         652500.0                    0.022800      -10197         -679.0   \n",
       "4          67500.0                    0.031329      -13439        -2717.0   \n",
       "\n",
       "   DAYS_REGISTRATION  ...  HOUSETYPE_MODE_terraced house  \\\n",
       "0            -3648.0  ...                              0   \n",
       "1            -1186.0  ...                              0   \n",
       "2            -1213.0  ...                              0   \n",
       "3            -4427.0  ...                              0   \n",
       "4             -311.0  ...                              0   \n",
       "\n",
       "   WALLSMATERIAL_MODE_Block  WALLSMATERIAL_MODE_Mixed  \\\n",
       "0                         0                         0   \n",
       "1                         1                         0   \n",
       "2                         0                         0   \n",
       "3                         0                         0   \n",
       "4                         0                         0   \n",
       "\n",
       "   WALLSMATERIAL_MODE_Monolithic  WALLSMATERIAL_MODE_Others  \\\n",
       "0                              0                          0   \n",
       "1                              0                          0   \n",
       "2                              0                          0   \n",
       "3                              0                          0   \n",
       "4                              0                          0   \n",
       "\n",
       "   WALLSMATERIAL_MODE_Panel  WALLSMATERIAL_MODE_Stone, brick  \\\n",
       "0                         0                                1   \n",
       "1                         0                                0   \n",
       "2                         0                                0   \n",
       "3                         0                                0   \n",
       "4                         0                                0   \n",
       "\n",
       "   WALLSMATERIAL_MODE_Wooden  EMERGENCYSTATE_MODE_No  EMERGENCYSTATE_MODE_Yes  \n",
       "0                          0                       1                        0  \n",
       "1                          0                       1                        0  \n",
       "2                          0                       0                        0  \n",
       "3                          0                       0                        0  \n",
       "4                          0                       1                        0  \n",
       "\n",
       "[5 rows x 230 columns]"
      ]
     },
     "execution_count": 3,
     "metadata": {},
     "output_type": "execute_result"
    }
   ],
   "source": [
    "df_all = pd.read_csv(\"../../data/final/df_train_final_all.csv\")\n",
    "df_all.head(5)"
   ]
  },
  {
   "cell_type": "markdown",
   "metadata": {},
   "source": [
    "### Dataset final"
   ]
  },
  {
   "cell_type": "markdown",
   "metadata": {},
   "source": [
    "#### Preparación datasets train and test"
   ]
  },
  {
   "cell_type": "code",
   "execution_count": 4,
   "metadata": {},
   "outputs": [],
   "source": [
    "# Separate TARGET variable from dependent variables\n",
    "X = df.drop('TARGET', axis=1)\n",
    "y = df['TARGET']\n",
    "\n",
    "# Divide dataset in train (70%) and test (30%)\n",
    "X_train, X_test, y_train, y_test = train_test_split(X, y, test_size=0.3, random_state=42)\n",
    "\n",
    "# Generate expermient tracking in MLflow\n",
    "exp_name = 'Model XGBoost'\n",
    "exp_id = mlflow.create_experiment(name=exp_name)"
   ]
  },
  {
   "cell_type": "markdown",
   "metadata": {},
   "source": [
    "#### Prueba Nro. 1"
   ]
  },
  {
   "cell_type": "code",
   "execution_count": 5,
   "metadata": {},
   "outputs": [
    {
     "name": "stderr",
     "output_type": "stream",
     "text": [
      "c:\\Users\\elisa\\OneDrive\\MÁSTER\\TFM\\.venv\\Lib\\site-packages\\xgboost\\core.py:158: UserWarning: [23:28:46] WARNING: C:\\buildkite-agent\\builds\\buildkite-windows-cpu-autoscaling-group-i-0015a694724fa8361-1\\xgboost\\xgboost-ci-windows\\src\\learner.cc:740: \n",
      "Parameters: { \"use_label_encoder\" } are not used.\n",
      "\n",
      "  warnings.warn(smsg, UserWarning)\n"
     ]
    },
    {
     "name": "stdout",
     "output_type": "stream",
     "text": [
      "AUC: 0.7195\n",
      "Accuracy: 92.58%\n",
      "Precision: 0.4500\n",
      "Recall: 0.0164\n",
      "F1-Score: 0.0317\n",
      "Confusion Matrix:\n",
      "[[54739    88]\n",
      " [ 4306    72]]\n"
     ]
    }
   ],
   "source": [
    "# Track each run\n",
    "with mlflow.start_run(experiment_id=exp_id, run_name=\"XGBoost - mlogloss\"):\n",
    "    # Create and train XGBoost model\n",
    "    model = xgb.XGBClassifier(use_label_encoder=False, eval_metric='logloss', random_state=42)\n",
    "    trained_model = model.fit(X_train, y_train)\n",
    "\n",
    "    # Evaluate predictions in test dataset of positive class to calculate AUC\n",
    "    y_pred_auc = trained_model.predict_proba(X_test)[:, 1]\n",
    "    # Evaluate model for accuracy metric\n",
    "    y_pred = trained_model.predict(X_test)\n",
    "\n",
    "    # Calculate metrics\n",
    "    auc_score = roc_auc_score(y_test, y_pred_auc)\n",
    "    accuracy = accuracy_score(y_test, y_pred)\n",
    "    precision = precision_score(y_test, y_pred)\n",
    "    recall = recall_score(y_test, y_pred)\n",
    "    f1 = f1_score(y_test, y_pred)\n",
    "    conf_matrix = confusion_matrix(y_test, y_pred)\n",
    "\n",
    "\n",
    "    # Track evaluation metric used for the model\n",
    "    mlflow.log_param('eval_metric', 'logloss')\n",
    "\n",
    "    # Track metrics\n",
    "    mlflow.log_metric('roc_auc_score', auc_score)\n",
    "    mlflow.log_metric('accuracy_score', accuracy)\n",
    "    mlflow.log_metric('precision_score', precision)\n",
    "    mlflow.log_metric('recall_score', recall)\n",
    "    mlflow.log_metric('f1_score', f1)\n",
    "\n",
    "    # Save model\n",
    "    mlflow.sklearn.log_model(trained_model, \"XGBoost - logloss\")\n",
    "\n",
    "    # Close MLflow tracking\n",
    "    mlflow.end_run()\n",
    "\n",
    "print(f\"AUC: {auc_score:.4f}\")\n",
    "print(f\"Accuracy: {accuracy * 100:.2f}%\")\n",
    "print(f\"Precision: {precision:.4f}\")\n",
    "print(f\"Recall: {recall:.4f}\")\n",
    "print(f\"F1-Score: {f1:.4f}\")\n",
    "print(\"Confusion Matrix:\")\n",
    "print(conf_matrix)"
   ]
  },
  {
   "cell_type": "code",
   "execution_count": 6,
   "metadata": {},
   "outputs": [
    {
     "data": {
      "image/png": "[encoded data removed]",
      "text/plain": [
       "<Figure size 800x600 with 1 Axes>"
      ]
     },
     "metadata": {},
     "output_type": "display_data"
    }
   ],
   "source": [
    "# Plot ROC curve\n",
    "fpr, tpr, thresholds = roc_curve(y_test, y_pred_auc)\n",
    "plt.figure(figsize=(8, 6))\n",
    "plt.plot(fpr, tpr, label=f\"XGBoost (AUC = {auc_score:.2f})\", color='red')\n",
    "plt.plot([0, 1], [0, 1], 'k--', lw=2)\n",
    "plt.xlabel('False Positive Rate')\n",
    "plt.ylabel('True Positive Rate')\n",
    "plt.title('ROC Curve')\n",
    "plt.legend(loc=\"lower right\")\n",
    "plt.grid(True)\n",
    "plt.show()"
   ]
  },
  {
   "cell_type": "markdown",
   "metadata": {},
   "source": [
    "El valor AUC es 0.5074, lo cual indica que el rendimiento del modelo es aleatorio. No obstante, la precisión (accurracy) es muy cercana a 1. Esto puede ser causado por tener clases desbalanceadas o que el modelo esté sesgado hacia la clase mayoritaria."
   ]
  },
  {
   "cell_type": "code",
   "execution_count": 7,
   "metadata": {},
   "outputs": [
    {
     "data": {
      "text/html": [
       "<div>\n",
       "<style scoped>\n",
       "    .dataframe tbody tr th:only-of-type {\n",
       "        vertical-align: middle;\n",
       "    }\n",
       "\n",
       "    .dataframe tbody tr th {\n",
       "        vertical-align: top;\n",
       "    }\n",
       "\n",
       "    .dataframe thead th {\n",
       "        text-align: right;\n",
       "    }\n",
       "</style>\n",
       "<table border=\"1\" class=\"dataframe\">\n",
       "  <thead>\n",
       "    <tr style=\"text-align: right;\">\n",
       "      <th></th>\n",
       "      <th>TARGET</th>\n",
       "      <th>COUNT</th>\n",
       "    </tr>\n",
       "  </thead>\n",
       "  <tbody>\n",
       "    <tr>\n",
       "      <th>0</th>\n",
       "      <td>0</td>\n",
       "      <td>182905</td>\n",
       "    </tr>\n",
       "    <tr>\n",
       "      <th>1</th>\n",
       "      <td>1</td>\n",
       "      <td>14442</td>\n",
       "    </tr>\n",
       "  </tbody>\n",
       "</table>\n",
       "</div>"
      ],
      "text/plain": [
       "   TARGET   COUNT\n",
       "0       0  182905\n",
       "1       1   14442"
      ]
     },
     "execution_count": 7,
     "metadata": {},
     "output_type": "execute_result"
    }
   ],
   "source": [
    "df_grouped_target= df.groupby('TARGET').size().reset_index(name='COUNT')\n",
    "df_grouped_target"
   ]
  },
  {
   "cell_type": "code",
   "execution_count": 13,
   "metadata": {},
   "outputs": [
    {
     "data": {
      "text/plain": [
       "<Axes: xlabel='TARGET'>"
      ]
     },
     "execution_count": 13,
     "metadata": {},
     "output_type": "execute_result"
    },
    {
     "data": {
      "image/png": "[encoded data removed]",
      "text/plain": [
       "<Figure size 640x480 with 1 Axes>"
      ]
     },
     "metadata": {},
     "output_type": "display_data"
    }
   ],
   "source": [
    "# Plotting a bar plot for TARGET\n",
    "#plt.bar(df_grouped_target['TARGET'], df_grouped_target['COUNT'],  color='skyblue', edgecolor='black')\n",
    "df_grouped_target.plot.bar(x='TARGET', y='COUNT') \n",
    "# Adding labels and title\n",
    "#plt.xlabel('Target Values')\n",
    "#plt.ylabel('Count')\n",
    "#plt.title('Distribution of TARGET class')\n",
    " \n",
    "# Display the plot\n",
    "#plt.show()"
   ]
  },
  {
   "cell_type": "code",
   "execution_count": 15,
   "metadata": {},
   "outputs": [
    {
     "name": "stdout",
     "output_type": "stream",
     "text": [
      "La clase 1 representa un 7.32% de la muestra.\n"
     ]
    }
   ],
   "source": [
    "percentage_1=round(100*df_grouped_target[df_grouped_target['TARGET']==1]['COUNT'].values[0]/len(df),2)\n",
    "print(f\"La clase 1 representa un {percentage_1}% de la muestra.\")"
   ]
  },
  {
   "cell_type": "markdown",
   "metadata": {},
   "source": [
    "#### Prueba Nro. 2 \n",
    "\n",
    "Tratando el desbalanceo de clases. Se uttiliza el hiperparametro scale_pos_weight para ajustar el peso de las clases"
   ]
  },
  {
   "cell_type": "code",
   "execution_count": 16,
   "metadata": {},
   "outputs": [
    {
     "name": "stderr",
     "output_type": "stream",
     "text": [
      "c:\\Users\\elisa\\OneDrive\\MÁSTER\\TFM\\.venv\\Lib\\site-packages\\xgboost\\core.py:158: UserWarning: [23:35:56] WARNING: C:\\buildkite-agent\\builds\\buildkite-windows-cpu-autoscaling-group-i-0015a694724fa8361-1\\xgboost\\xgboost-ci-windows\\src\\learner.cc:740: \n",
      "Parameters: { \"use_label_encoder\" } are not used.\n",
      "\n",
      "  warnings.warn(smsg, UserWarning)\n"
     ]
    },
    {
     "name": "stdout",
     "output_type": "stream",
     "text": [
      "scale_pos_weight: 12.664797119512533\n",
      "AUC: 0.7096\n",
      "Accuracy: 71.92%\n",
      "Precision: 0.1447\n",
      "Recall: 0.5697\n",
      "F1-Score: 0.2308\n",
      "Confusion Matrix:\n",
      "[[40086 14741]\n",
      " [ 1884  2494]]\n"
     ]
    }
   ],
   "source": [
    "# Track each run\n",
    "with mlflow.start_run(experiment_id=exp_id, run_name=\"XGBoost - class weigthing\"):\n",
    "\n",
    "    # Count classes distribution \n",
    "    class_distr = Counter(y)\n",
    "    # Adjust weights to minority class\n",
    "    scale_pos_weight = class_distr[0] / class_distr[1]\n",
    "\n",
    "    # Create and train XGBoost model\n",
    "    model = xgb.XGBClassifier(use_label_encoder=False, eval_metric='logloss', scale_pos_weight=scale_pos_weight, random_state=42)\n",
    "    trained_model = model.fit(X_train, y_train)\n",
    "\n",
    "    # Evaluate predictions in test dataset of positive class to calculate AUC\n",
    "    y_pred_auc = trained_model.predict_proba(X_test)[:, 1]\n",
    "    # Evaluate model for accuracy metric\n",
    "    y_pred = trained_model.predict(X_test)\n",
    "\n",
    "    # Calculate metrics\n",
    "    auc_score = roc_auc_score(y_test, y_pred_auc)\n",
    "    accuracy = accuracy_score(y_test, y_pred)\n",
    "    precision = precision_score(y_test, y_pred)\n",
    "    recall = recall_score(y_test, y_pred)\n",
    "    f1 = f1_score(y_test, y_pred)\n",
    "    conf_matrix = confusion_matrix(y_test, y_pred)\n",
    "\n",
    "\n",
    "    # Track evaluation metric used for the model\n",
    "    mlflow.log_param('eval_metric', 'logloss')\n",
    "    mlflow.log_param('scale_pos_weight', scale_pos_weight)\n",
    "\n",
    "    # Track metrics\n",
    "    mlflow.log_metric('roc_auc_score', auc_score)\n",
    "    mlflow.log_metric('accuracy_score', accuracy)\n",
    "    mlflow.log_metric('precision_score', precision)\n",
    "    mlflow.log_metric('recall_score', recall)\n",
    "    mlflow.log_metric('f1_score', f1)\n",
    "\n",
    "    # Save model\n",
    "    mlflow.sklearn.log_model(trained_model, \"XGBoost - logloss\")\n",
    "\n",
    "    # Close MLflow tracking\n",
    "    mlflow.end_run()\n",
    "\n",
    "print(f\"scale_pos_weight: {scale_pos_weight}\")\n",
    "print(f\"AUC: {auc_score:.4f}\")\n",
    "print(f\"Accuracy: {accuracy * 100:.2f}%\")\n",
    "print(f\"Precision: {precision:.4f}\")\n",
    "print(f\"Recall: {recall:.4f}\")\n",
    "print(f\"F1-Score: {f1:.4f}\")\n",
    "print(\"Confusion Matrix:\")\n",
    "print(conf_matrix)"
   ]
  },
  {
   "cell_type": "markdown",
   "metadata": {},
   "source": [
    "El AUC se ha incrementado a un valor de 0.65, lo que indica que el modelo tiene un rendimiento moderado. El ajuste del peso de las clases ha contribuido significativamente al rendimiento del modelo"
   ]
  },
  {
   "cell_type": "code",
   "execution_count": 17,
   "metadata": {},
   "outputs": [
    {
     "data": {
      "image/png": "[encoded data removed]",
      "text/plain": [
       "<Figure size 800x600 with 1 Axes>"
      ]
     },
     "metadata": {},
     "output_type": "display_data"
    }
   ],
   "source": [
    "# Plot ROC curve\n",
    "fpr, tpr, thresholds = roc_curve(y_test, y_pred_auc)\n",
    "plt.figure(figsize=(8, 6))\n",
    "plt.plot(fpr, tpr, label=f\"XGBoost (AUC = {auc_score:.2f})\", color='red')\n",
    "plt.plot([0, 1], [0, 1], 'k--', lw=2)\n",
    "plt.xlabel('False Positive Rate')\n",
    "plt.ylabel('True Positive Rate')\n",
    "plt.title('ROC Curve')\n",
    "plt.legend(loc=\"lower right\")\n",
    "plt.grid(True)\n",
    "plt.show()"
   ]
  },
  {
   "cell_type": "markdown",
   "metadata": {},
   "source": [
    "#### Prueba Nro. 3\n",
    "\n",
    "Tratando el desbalanceo de clases con SMOTE."
   ]
  },
  {
   "cell_type": "code",
   "execution_count": 18,
   "metadata": {},
   "outputs": [
    {
     "name": "stdout",
     "output_type": "stream",
     "text": [
      "Original class distribution: [182905  14442]\n",
      "SMOTE class distribution: [128078 128078]\n"
     ]
    },
    {
     "name": "stderr",
     "output_type": "stream",
     "text": [
      "c:\\Users\\elisa\\OneDrive\\MÁSTER\\TFM\\.venv\\Lib\\site-packages\\xgboost\\core.py:158: UserWarning: [23:37:03] WARNING: C:\\buildkite-agent\\builds\\buildkite-windows-cpu-autoscaling-group-i-0015a694724fa8361-1\\xgboost\\xgboost-ci-windows\\src\\learner.cc:740: \n",
      "Parameters: { \"use_label_encoder\" } are not used.\n",
      "\n",
      "  warnings.warn(smsg, UserWarning)\n"
     ]
    },
    {
     "name": "stdout",
     "output_type": "stream",
     "text": [
      "AUC: 0.6674\n",
      "Accuracy: 88.02%\n",
      "Precision: 0.1426\n",
      "Recall: 0.1238\n",
      "F1-Score: 0.1325\n",
      "Confusion Matrix:\n",
      "[[51568  3259]\n",
      " [ 3836   542]]\n"
     ]
    }
   ],
   "source": [
    "# Track each run\n",
    "with mlflow.start_run(experiment_id=exp_id, run_name=\"XGBoost - SMOTE\"):\n",
    "\n",
    "    # Original class distribution\n",
    "    print(f\"Original class distribution: {np.bincount(y)}\")\n",
    "\n",
    "    # Apply SMOTE to create synthetic instances for the minority class\n",
    "    smote = SMOTE(random_state=42)\n",
    "   \n",
    "    # Create train and test based on SMOTE sample to avoid overfitting on test sample\n",
    "    X_train_smote, y_train_smote = smote.fit_resample(X_train, y_train)\n",
    "\n",
    "    # SMOTE class distribution\n",
    "    print(f\"SMOTE class distribution: {np.bincount(y_train_smote)}\")\n",
    "\n",
    "    # Create and train XGBoost model\n",
    "    model = xgb.XGBClassifier(use_label_encoder=False, eval_metric='logloss', random_state=42)\n",
    "    trained_model = model.fit(X_train_smote, y_train_smote )\n",
    "\n",
    "    # Evaluate predictions in test dataset of positive class to calculate AUC\n",
    "    y_pred_auc = trained_model.predict_proba(X_test)[:, 1]\n",
    "    # Evaluate model for accuracy metric\n",
    "    y_pred = trained_model.predict(X_test)\n",
    "\n",
    "    # Calculate metrics\n",
    "    auc_score = roc_auc_score(y_test, y_pred_auc)\n",
    "    accuracy = accuracy_score(y_test, y_pred)\n",
    "    precision = precision_score(y_test, y_pred)\n",
    "    recall = recall_score(y_test, y_pred)\n",
    "    f1 = f1_score(y_test, y_pred)\n",
    "    conf_matrix = confusion_matrix(y_test, y_pred)\n",
    "\n",
    "\n",
    "    # Track evaluation metric used for the model\n",
    "    mlflow.log_param('eval_metric', 'logloss')\n",
    "\n",
    "    # Track metrics\n",
    "    mlflow.log_metric('roc_auc_score', auc_score)\n",
    "    mlflow.log_metric('accuracy_score', accuracy)\n",
    "    mlflow.log_metric('precision_score', precision)\n",
    "    mlflow.log_metric('recall_score', recall)\n",
    "    mlflow.log_metric('f1_score', f1)\n",
    "\n",
    "    # Save model\n",
    "    mlflow.sklearn.log_model(trained_model, \"XGBoost - logloss\")\n",
    "\n",
    "    # Close MLflow tracking\n",
    "    mlflow.end_run()\n",
    "\n",
    "print(f\"AUC: {auc_score:.4f}\")\n",
    "print(f\"Accuracy: {accuracy * 100:.2f}%\")\n",
    "print(f\"Precision: {precision:.4f}\")\n",
    "print(f\"Recall: {recall:.4f}\")\n",
    "print(f\"F1-Score: {f1:.4f}\")\n",
    "print(\"Confusion Matrix:\")\n",
    "print(conf_matrix)"
   ]
  },
  {
   "cell_type": "markdown",
   "metadata": {},
   "source": [
    "### Dataset final con todos los atributos"
   ]
  },
  {
   "cell_type": "markdown",
   "metadata": {},
   "source": [
    "#### Preparación datasets train and test"
   ]
  },
  {
   "cell_type": "code",
   "execution_count": 19,
   "metadata": {},
   "outputs": [],
   "source": [
    "# Separate TARGET variable from dependent variables\n",
    "X = df_all.drop('TARGET', axis=1)\n",
    "y = df_all['TARGET']\n",
    "\n",
    "# Divide dataset in train (70%) and test (30%)\n",
    "X_train, X_test, y_train, y_test = train_test_split(X, y, test_size=0.3, random_state=42)\n",
    "\n",
    "# Generate expermient tracking in MLflow\n",
    "exp_name = 'Model XGBoost - dataset all'\n",
    "exp_id = mlflow.create_experiment(name=exp_name)"
   ]
  },
  {
   "cell_type": "markdown",
   "metadata": {},
   "source": [
    "#### Prueba No.1"
   ]
  },
  {
   "cell_type": "code",
   "execution_count": 13,
   "metadata": {},
   "outputs": [
    {
     "data": {
      "text/plain": [
       "array([128078,  10064], dtype=int64)"
      ]
     },
     "execution_count": 13,
     "metadata": {},
     "output_type": "execute_result"
    }
   ],
   "source": [
    "np.bincount(y_train)"
   ]
  },
  {
   "cell_type": "markdown",
   "metadata": {},
   "source": [
    "Las clases están desbalanceadas. Ejecutamos el modelo con asignación de pesos a la clase minoritaria"
   ]
  },
  {
   "cell_type": "code",
   "execution_count": 20,
   "metadata": {},
   "outputs": [
    {
     "name": "stderr",
     "output_type": "stream",
     "text": [
      "c:\\Users\\elisa\\OneDrive\\MÁSTER\\TFM\\.venv\\Lib\\site-packages\\xgboost\\core.py:158: UserWarning: [23:37:57] WARNING: C:\\buildkite-agent\\builds\\buildkite-windows-cpu-autoscaling-group-i-0015a694724fa8361-1\\xgboost\\xgboost-ci-windows\\src\\learner.cc:740: \n",
      "Parameters: { \"use_label_encoder\" } are not used.\n",
      "\n",
      "  warnings.warn(smsg, UserWarning)\n"
     ]
    },
    {
     "name": "stdout",
     "output_type": "stream",
     "text": [
      "scale_pos_weight: 12.664797119512533\n",
      "AUC: 0.7351\n",
      "Accuracy: 77.25%\n",
      "Precision: 0.1712\n",
      "Recall: 0.5407\n",
      "F1-Score: 0.2600\n",
      "Confusion Matrix:\n",
      "[[43366 11461]\n",
      " [ 2011  2367]]\n"
     ]
    }
   ],
   "source": [
    "# Track each run\n",
    "with mlflow.start_run(experiment_id=exp_id, run_name=\"XGBoost - class weighting\"):\n",
    "\n",
    "    # Count classes distribution \n",
    "    class_distr = Counter(y)\n",
    "    # Adjust weights to minority class\n",
    "    scale_pos_weight = class_distr[0] / class_distr[1]\n",
    "\n",
    "    # Create and train XGBoost model\n",
    "    model = xgb.XGBClassifier(use_label_encoder=False, eval_metric='logloss', scale_pos_weight=scale_pos_weight, random_state=42)\n",
    "    trained_model = model.fit(X_train, y_train)\n",
    "\n",
    "    # Evaluate predictions in test dataset of positive class to calculate AUC\n",
    "    y_pred_auc = trained_model.predict_proba(X_test)[:, 1]\n",
    "    # Evaluate model for accuracy metric\n",
    "    y_pred = trained_model.predict(X_test)\n",
    "\n",
    "    # Calculate metrics\n",
    "    auc_score = roc_auc_score(y_test, y_pred_auc)\n",
    "    accuracy = accuracy_score(y_test, y_pred)\n",
    "    precision = precision_score(y_test, y_pred)\n",
    "    recall = recall_score(y_test, y_pred)\n",
    "    f1 = f1_score(y_test, y_pred)\n",
    "    conf_matrix = confusion_matrix(y_test, y_pred)\n",
    "\n",
    "\n",
    "    # Track evaluation metric used for the model\n",
    "    mlflow.log_param('eval_metric', 'logloss')\n",
    "    mlflow.log_param('scale_pos_weight', scale_pos_weight)\n",
    "\n",
    "    # Track metrics\n",
    "    mlflow.log_metric('roc_auc_score', auc_score)\n",
    "    mlflow.log_metric('accuracy_score', accuracy)\n",
    "    mlflow.log_metric('precision_score', precision)\n",
    "    mlflow.log_metric('recall_score', recall)\n",
    "    mlflow.log_metric('f1_score', f1)\n",
    "\n",
    "    # Save model\n",
    "    mlflow.sklearn.log_model(trained_model, \"XGBoost - logloss\")\n",
    "\n",
    "    # Close MLflow tracking\n",
    "    mlflow.end_run()\n",
    "\n",
    "print(f\"scale_pos_weight: {scale_pos_weight}\")\n",
    "print(f\"AUC: {auc_score:.4f}\")\n",
    "print(f\"Accuracy: {accuracy * 100:.2f}%\")\n",
    "print(f\"Precision: {precision:.4f}\")\n",
    "print(f\"Recall: {recall:.4f}\")\n",
    "print(f\"F1-Score: {f1:.4f}\")\n",
    "print(\"Confusion Matrix:\")\n",
    "print(conf_matrix)"
   ]
  }
 ],
 "metadata": {
  "kernelspec": {
   "display_name": ".venv",
   "language": "python",
   "name": "python3"
  },
  "language_info": {
   "codemirror_mode": {
    "name": "ipython",
    "version": 3
   },
   "file_extension": ".py",
   "mimetype": "text/x-python",
   "name": "python",
   "nbconvert_exporter": "python",
   "pygments_lexer": "ipython3",
   "version": "3.12.3"
  }
 },
 "nbformat": 4,
 "nbformat_minor": 2
}
