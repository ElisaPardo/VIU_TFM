{
 "cells": [
  {
   "cell_type": "markdown",
   "metadata": {},
   "source": [
    "# Modelado: XGBOOST\n"
   ]
  },
  {
   "cell_type": "markdown",
   "metadata": {},
   "source": [
    "### Carga de librerías"
   ]
  },
  {
   "cell_type": "code",
   "execution_count": 13,
   "metadata": {},
   "outputs": [],
   "source": [
    "import pandas as pd\n",
    "import numpy as np\n",
    "# Import mlflow for models tracking\n",
    "import mlflow\n",
    "# Libraries for models and metrics\n",
    "from sklearn.model_selection import train_test_split\n",
    "from sklearn.metrics import accuracy_score, confusion_matrix, ConfusionMatrixDisplay, roc_auc_score, roc_curve, f1_score, precision_score, recall_score\n",
    "import xgboost as xgb\n",
    "# Visualization libraries\n",
    "import matplotlib.pyplot as plt\n",
    "\n",
    "# Packages to manage class imbalance\n",
    "from collections import Counter\n",
    "from imblearn.over_sampling import SMOTE"
   ]
  },
  {
   "cell_type": "markdown",
   "metadata": {},
   "source": [
    "\n",
    "### Carga de ficheros"
   ]
  },
  {
   "cell_type": "code",
   "execution_count": 6,
   "metadata": {},
   "outputs": [
    {
     "data": {
      "text/html": [
       "<div>\n",
       "<style scoped>\n",
       "    .dataframe tbody tr th:only-of-type {\n",
       "        vertical-align: middle;\n",
       "    }\n",
       "\n",
       "    .dataframe tbody tr th {\n",
       "        vertical-align: top;\n",
       "    }\n",
       "\n",
       "    .dataframe thead th {\n",
       "        text-align: right;\n",
       "    }\n",
       "</style>\n",
       "<table border=\"1\" class=\"dataframe\">\n",
       "  <thead>\n",
       "    <tr style=\"text-align: right;\">\n",
       "      <th></th>\n",
       "      <th>TARGET</th>\n",
       "      <th>DAYS_BIRTH</th>\n",
       "      <th>EXT_SOURCE_3</th>\n",
       "      <th>EXT_SOURCE_1</th>\n",
       "      <th>EXT_SOURCE_2</th>\n",
       "      <th>QTY_ACTIVE_BUREAU</th>\n",
       "      <th>QTY_APP_LAST_YEAR</th>\n",
       "      <th>RATIO_NONAPPROVED</th>\n",
       "    </tr>\n",
       "  </thead>\n",
       "  <tbody>\n",
       "    <tr>\n",
       "      <th>0</th>\n",
       "      <td>1</td>\n",
       "      <td>-9461</td>\n",
       "      <td>0.139376</td>\n",
       "      <td>0.083037</td>\n",
       "      <td>0.262949</td>\n",
       "      <td>2.0</td>\n",
       "      <td>1.0</td>\n",
       "      <td>0.0</td>\n",
       "    </tr>\n",
       "    <tr>\n",
       "      <th>1</th>\n",
       "      <td>0</td>\n",
       "      <td>-16765</td>\n",
       "      <td>0.507626</td>\n",
       "      <td>0.311267</td>\n",
       "      <td>0.622246</td>\n",
       "      <td>1.0</td>\n",
       "      <td>0.0</td>\n",
       "      <td>0.0</td>\n",
       "    </tr>\n",
       "    <tr>\n",
       "      <th>2</th>\n",
       "      <td>0</td>\n",
       "      <td>-13778</td>\n",
       "      <td>0.492060</td>\n",
       "      <td>0.774761</td>\n",
       "      <td>0.724000</td>\n",
       "      <td>4.0</td>\n",
       "      <td>1.0</td>\n",
       "      <td>0.0</td>\n",
       "    </tr>\n",
       "    <tr>\n",
       "      <th>3</th>\n",
       "      <td>0</td>\n",
       "      <td>-10197</td>\n",
       "      <td>0.363945</td>\n",
       "      <td>0.319760</td>\n",
       "      <td>0.651862</td>\n",
       "      <td>2.0</td>\n",
       "      <td>0.0</td>\n",
       "      <td>0.0</td>\n",
       "    </tr>\n",
       "    <tr>\n",
       "      <th>4</th>\n",
       "      <td>0</td>\n",
       "      <td>-13439</td>\n",
       "      <td>0.176653</td>\n",
       "      <td>0.464831</td>\n",
       "      <td>0.715042</td>\n",
       "      <td>4.0</td>\n",
       "      <td>4.0</td>\n",
       "      <td>0.0</td>\n",
       "    </tr>\n",
       "  </tbody>\n",
       "</table>\n",
       "</div>"
      ],
      "text/plain": [
       "   TARGET  DAYS_BIRTH  EXT_SOURCE_3  EXT_SOURCE_1  EXT_SOURCE_2  \\\n",
       "0       1       -9461      0.139376      0.083037      0.262949   \n",
       "1       0      -16765      0.507626      0.311267      0.622246   \n",
       "2       0      -13778      0.492060      0.774761      0.724000   \n",
       "3       0      -10197      0.363945      0.319760      0.651862   \n",
       "4       0      -13439      0.176653      0.464831      0.715042   \n",
       "\n",
       "   QTY_ACTIVE_BUREAU  QTY_APP_LAST_YEAR  RATIO_NONAPPROVED  \n",
       "0                2.0                1.0                0.0  \n",
       "1                1.0                0.0                0.0  \n",
       "2                4.0                1.0                0.0  \n",
       "3                2.0                0.0                0.0  \n",
       "4                4.0                4.0                0.0  "
      ]
     },
     "execution_count": 6,
     "metadata": {},
     "output_type": "execute_result"
    }
   ],
   "source": [
    "df = pd.read_csv(\"../../data/final/df_train_final.csv\")\n",
    "df.head(5)"
   ]
  },
  {
   "cell_type": "markdown",
   "metadata": {},
   "source": [
    "### Dataset final"
   ]
  },
  {
   "cell_type": "markdown",
   "metadata": {},
   "source": [
    "#### Preparación datasets train and test"
   ]
  },
  {
   "cell_type": "code",
   "execution_count": 22,
   "metadata": {},
   "outputs": [],
   "source": [
    "# Separate TARGET variable from dependent variables\n",
    "X = df.drop('TARGET', axis=1)\n",
    "y = df['TARGET']\n",
    "\n",
    "# Divide dataset in train (70%) and test (30%)\n",
    "X_train, X_test, y_train, y_test = train_test_split(X, y, test_size=0.3, random_state=42)\n",
    "\n",
    "# Generate expermient tracking in MLflow\n",
    "exp_name = 'Model XGBoost'\n",
    "exp_id = mlflow.create_experiment(name=exp_name)"
   ]
  },
  {
   "cell_type": "markdown",
   "metadata": {},
   "source": [
    "#### Prueba Nro. 1"
   ]
  },
  {
   "cell_type": "code",
   "execution_count": null,
   "metadata": {},
   "outputs": [
    {
     "name": "stderr",
     "output_type": "stream",
     "text": [
      "c:\\Users\\elisa\\OneDrive\\MÁSTER\\TFM\\VIU_TFM\\.venv\\Lib\\site-packages\\xgboost\\core.py:158: UserWarning: [11:56:35] WARNING: C:\\buildkite-agent\\builds\\buildkite-windows-cpu-autoscaling-group-i-0ed59c031377d09b8-1\\xgboost\\xgboost-ci-windows\\src\\learner.cc:740: \n",
      "Parameters: { \"use_label_encoder\" } are not used.\n",
      "\n",
      "  warnings.warn(smsg, UserWarning)\n",
      "2024/11/25 11:56:43 WARNING mlflow.models.model: Model logged without a signature and input example. Please set `input_example` parameter when logging the model to auto infer the model signature.\n"
     ]
    },
    {
     "name": "stdout",
     "output_type": "stream",
     "text": [
      "Distribución final de clases (conteo): [59042   163]\n",
      "Distribución final de clases (porcentaje): [99.72468542  0.27531458]\n",
      "AUC: 0.7237\n",
      "Accuracy: 92.54%\n",
      "Precision: 0.3804\n",
      "Recall: 0.0142\n",
      "F1-Score: 0.0273\n",
      "Confusion Matrix:\n",
      "[[54726   101]\n",
      " [ 4316    62]]\n"
     ]
    }
   ],
   "source": [
    "# Track each run\n",
    "with mlflow.start_run(experiment_id=exp_id, run_name=\"XGBoost - mlogloss\"):\n",
    "    # Create and train XGBoost model\n",
    "    model = xgb.XGBClassifier(use_label_encoder=False, eval_metric='logloss', random_state=42)\n",
    "    trained_model = model.fit(X_train, y_train)\n",
    "\n",
    "    # Evaluate predictions in test dataset of positive class to calculate AUC\n",
    "    y_pred_auc = trained_model.predict_proba(X_test)[:, 1]\n",
    "    # Evaluate model for accuracy metric\n",
    "    y_pred = trained_model.predict(X_test)\n",
    "\n",
    "    # Classes distribution\n",
    "    class_distribution = np.bincount(y_pred, minlength=len(np.unique(y)))\n",
    "    class_distribution_percentage = (class_distribution / len(y_pred)) * 100\n",
    "\n",
    "    # Calculate metrics\n",
    "    auc_score = roc_auc_score(y_test, y_pred_auc)\n",
    "    accuracy = accuracy_score(y_test, y_pred)\n",
    "    precision = precision_score(y_test, y_pred)\n",
    "    recall = recall_score(y_test, y_pred)\n",
    "    f1 = f1_score(y_test, y_pred)\n",
    "    conf_matrix = confusion_matrix(y_test, y_pred)\n",
    "\n",
    "\n",
    "    # Track evaluation metric used for the model\n",
    "    mlflow.log_param('eval_metric', 'logloss')\n",
    "\n",
    "    # Track metrics\n",
    "    mlflow.log_metric('roc_auc_score', auc_score)\n",
    "    mlflow.log_metric('accuracy_score', accuracy)\n",
    "    mlflow.log_metric('precision_score', precision)\n",
    "    mlflow.log_metric('recall_score', recall)\n",
    "    mlflow.log_metric('f1_score', f1)\n",
    "\n",
    "    # Save model\n",
    "    mlflow.sklearn.log_model(trained_model, \"XGBoost - logloss\")\n",
    "\n",
    "    # Close MLflow tracking\n",
    "    mlflow.end_run()\n",
    "\n",
    "# Print results\n",
    "print(\"Distribución final de clases (conteo):\", class_distribution)\n",
    "print(\"Distribución final de clases (porcentaje):\", class_distribution_percentage)\n",
    "\n",
    "print(f\"AUC: {auc_score:.4f}\")\n",
    "print(f\"Accuracy: {accuracy * 100:.2f}%\")\n",
    "print(f\"Precision: {precision:.4f}\")\n",
    "print(f\"Recall: {recall:.4f}\")\n",
    "print(f\"F1-Score: {f1:.4f}\")\n",
    "print(\"Confusion Matrix:\")\n",
    "print(conf_matrix)"
   ]
  },
  {
   "cell_type": "code",
   "execution_count": 24,
   "metadata": {},
   "outputs": [
    {
     "data": {
      "image/png": "[encoded data removed]",
      "text/plain": [
       "<Figure size 800x600 with 1 Axes>"
      ]
     },
     "metadata": {},
     "output_type": "display_data"
    }
   ],
   "source": [
    "# Plot ROC curve\n",
    "fpr, tpr, thresholds = roc_curve(y_test, y_pred_auc)\n",
    "plt.figure(figsize=(8, 6))\n",
    "plt.plot(fpr, tpr, label=f\"XGBoost (AUC = {auc_score:.2f})\", color='red')\n",
    "plt.plot([0, 1], [0, 1], 'k--', lw=2)\n",
    "plt.xlabel('False Positive Rate')\n",
    "plt.ylabel('True Positive Rate')\n",
    "plt.title('ROC Curve')\n",
    "plt.legend(loc=\"lower right\")\n",
    "plt.grid(True)\n",
    "plt.show()"
   ]
  },
  {
   "cell_type": "markdown",
   "metadata": {},
   "source": [
    "El valor AUC es 0.72 y la precisión (accurracy) es muy cercana a 1. Esto puede ser causado por tener clases desbalanceadas o que el modelo esté sesgado hacia la clase mayoritaria."
   ]
  },
  {
   "cell_type": "code",
   "execution_count": 25,
   "metadata": {},
   "outputs": [
    {
     "data": {
      "text/html": [
       "<div>\n",
       "<style scoped>\n",
       "    .dataframe tbody tr th:only-of-type {\n",
       "        vertical-align: middle;\n",
       "    }\n",
       "\n",
       "    .dataframe tbody tr th {\n",
       "        vertical-align: top;\n",
       "    }\n",
       "\n",
       "    .dataframe thead th {\n",
       "        text-align: right;\n",
       "    }\n",
       "</style>\n",
       "<table border=\"1\" class=\"dataframe\">\n",
       "  <thead>\n",
       "    <tr style=\"text-align: right;\">\n",
       "      <th></th>\n",
       "      <th>TARGET</th>\n",
       "      <th>COUNT</th>\n",
       "    </tr>\n",
       "  </thead>\n",
       "  <tbody>\n",
       "    <tr>\n",
       "      <th>0</th>\n",
       "      <td>0</td>\n",
       "      <td>182905</td>\n",
       "    </tr>\n",
       "    <tr>\n",
       "      <th>1</th>\n",
       "      <td>1</td>\n",
       "      <td>14442</td>\n",
       "    </tr>\n",
       "  </tbody>\n",
       "</table>\n",
       "</div>"
      ],
      "text/plain": [
       "   TARGET   COUNT\n",
       "0       0  182905\n",
       "1       1   14442"
      ]
     },
     "execution_count": 25,
     "metadata": {},
     "output_type": "execute_result"
    }
   ],
   "source": [
    "df_grouped_target= df.groupby('TARGET').size().reset_index(name='COUNT')\n",
    "df_grouped_target"
   ]
  },
  {
   "cell_type": "code",
   "execution_count": 26,
   "metadata": {},
   "outputs": [
    {
     "data": {
      "text/plain": [
       "<Axes: xlabel='TARGET'>"
      ]
     },
     "execution_count": 26,
     "metadata": {},
     "output_type": "execute_result"
    },
    {
     "data": {
      "image/png": "[encoded data removed]",
      "text/plain": [
       "<Figure size 640x480 with 1 Axes>"
      ]
     },
     "metadata": {},
     "output_type": "display_data"
    }
   ],
   "source": [
    "# Plotting a bar plot for TARGET\n",
    "#plt.bar(df_grouped_target['TARGET'], df_grouped_target['COUNT'],  color='skyblue', edgecolor='black')\n",
    "df_grouped_target.plot.bar(x='TARGET', y='COUNT', legend=False) \n",
    "# Adding labels and title\n",
    "#plt.xlabel('Target Values')\n",
    "#plt.ylabel('Count')\n",
    "#plt.title('Distribution of TARGET class')\n",
    " \n",
    "# Display the plot\n",
    "#plt.show()"
   ]
  },
  {
   "cell_type": "code",
   "execution_count": 27,
   "metadata": {},
   "outputs": [
    {
     "name": "stdout",
     "output_type": "stream",
     "text": [
      "La clase 1 representa un 7.32% de la muestra.\n"
     ]
    }
   ],
   "source": [
    "percentage_1=round(100*df_grouped_target[df_grouped_target['TARGET']==1]['COUNT'].values[0]/len(df),2)\n",
    "print(f\"La clase 1 representa un {percentage_1}% de la muestra.\")"
   ]
  },
  {
   "cell_type": "markdown",
   "metadata": {},
   "source": [
    "#### Prueba Nro. 2 \n",
    "\n",
    "Tratando el desbalanceo de clases. Se uttiliza el hiperparametro scale_pos_weight para ajustar el peso de las clases"
   ]
  },
  {
   "cell_type": "code",
   "execution_count": 36,
   "metadata": {},
   "outputs": [
    {
     "name": "stderr",
     "output_type": "stream",
     "text": [
      "c:\\Users\\elisa\\OneDrive\\MÁSTER\\TFM\\VIU_TFM\\.venv\\Lib\\site-packages\\xgboost\\core.py:158: UserWarning: [13:14:16] WARNING: C:\\buildkite-agent\\builds\\buildkite-windows-cpu-autoscaling-group-i-0ed59c031377d09b8-1\\xgboost\\xgboost-ci-windows\\src\\learner.cc:740: \n",
      "Parameters: { \"use_label_encoder\" } are not used.\n",
      "\n",
      "  warnings.warn(smsg, UserWarning)\n",
      "2024/12/02 13:14:33 WARNING mlflow.models.model: Model logged without a signature and input example. Please set `input_example` parameter when logging the model to auto infer the model signature.\n"
     ]
    },
    {
     "name": "stdout",
     "output_type": "stream",
     "text": [
      "Distribución final de clases (conteo): [42053 17152]\n",
      "Distribución final de clases (porcentaje): [71.02947386 28.97052614]\n",
      "scale_pos_weight: 12.72635135135135\n",
      "AUC: 0.7101\n",
      "Accuracy: 72.09%\n",
      "Precision: 0.1459\n",
      "Recall: 0.5717\n",
      "F1-Score: 0.2325\n",
      "Confusion Matrix:\n",
      "[[40178 14649]\n",
      " [ 1875  2503]]\n"
     ]
    }
   ],
   "source": [
    "# Track each run\n",
    "with mlflow.start_run(experiment_id=exp_id, run_name=\"XGBoost - class weighting\"):\n",
    "\n",
    "    # Count classes distribution over train dataset\n",
    "    class_distr = Counter(y_train)\n",
    "    # Adjust weights to minority class\n",
    "    scale_pos_weight = class_distr[0] / class_distr[1]\n",
    "\n",
    "    # Create and train XGBoost model\n",
    "    model = xgb.XGBClassifier(use_label_encoder=False, eval_metric='logloss', scale_pos_weight=scale_pos_weight, random_state=42)\n",
    "    trained_model = model.fit(X_train, y_train)\n",
    "\n",
    "    # Evaluate predictions in test dataset of positive class to calculate AUC\n",
    "    y_pred_auc = trained_model.predict_proba(X_test)[:, 1]\n",
    "    # Evaluate model for accuracy metric\n",
    "    y_pred = trained_model.predict(X_test)\n",
    "\n",
    "    # Classes distribution\n",
    "    class_distribution = np.bincount(y_pred, minlength=len(np.unique(y)))\n",
    "    class_distribution_percentage = (class_distribution / len(y_pred)) * 100\n",
    "\n",
    "    # Calculate metrics\n",
    "    auc_score = roc_auc_score(y_test, y_pred_auc)\n",
    "    accuracy = accuracy_score(y_test, y_pred)\n",
    "    precision = precision_score(y_test, y_pred)\n",
    "    recall = recall_score(y_test, y_pred)\n",
    "    f1 = f1_score(y_test, y_pred)\n",
    "    conf_matrix = confusion_matrix(y_test, y_pred)\n",
    "\n",
    "\n",
    "    # Track evaluation metric used for the model\n",
    "    mlflow.log_param('eval_metric', 'logloss')\n",
    "    mlflow.log_param('scale_pos_weight', scale_pos_weight)\n",
    "\n",
    "    # Track metrics\n",
    "    mlflow.log_metric('roc_auc_score', auc_score)\n",
    "    mlflow.log_metric('accuracy_score', accuracy)\n",
    "    mlflow.log_metric('precision_score', precision)\n",
    "    mlflow.log_metric('recall_score', recall)\n",
    "    mlflow.log_metric('f1_score', f1)\n",
    "\n",
    "    # Save model\n",
    "    mlflow.sklearn.log_model(trained_model, \"XGBoost - class weighting\")\n",
    "\n",
    "    # Close MLflow tracking\n",
    "    mlflow.end_run()\n",
    "\n",
    "# Print results\n",
    "print(\"Distribución final de clases (conteo):\", class_distribution)\n",
    "print(\"Distribución final de clases (porcentaje):\", class_distribution_percentage)\n",
    "\n",
    "print(f\"scale_pos_weight: {scale_pos_weight}\")\n",
    "print(f\"AUC: {auc_score:.4f}\")\n",
    "print(f\"Accuracy: {accuracy * 100:.2f}%\")\n",
    "print(f\"Precision: {precision:.4f}\")\n",
    "print(f\"Recall: {recall:.4f}\")\n",
    "print(f\"F1-Score: {f1:.4f}\")\n",
    "print(\"Confusion Matrix:\")\n",
    "print(conf_matrix)"
   ]
  },
  {
   "cell_type": "markdown",
   "metadata": {},
   "source": [
    "El AUC se ha reducido ligeramente pero aún así muestra un rendimiento moderado. No obstante, la métrica accuracy se ha visto significamente reducida. Observando F1 Score, se concluye que el ajuste del peso de las clases ha contribuido significativamente al rendimiento del modelo."
   ]
  },
  {
   "cell_type": "code",
   "execution_count": 29,
   "metadata": {},
   "outputs": [
    {
     "data": {
      "image/png": "[encoded data removed]",
      "text/plain": [
       "<Figure size 800x600 with 1 Axes>"
      ]
     },
     "metadata": {},
     "output_type": "display_data"
    }
   ],
   "source": [
    "# Plot ROC curve\n",
    "fpr, tpr, thresholds = roc_curve(y_test, y_pred_auc)\n",
    "plt.figure(figsize=(8, 6))\n",
    "plt.plot(fpr, tpr, label=f\"XGBoost (AUC = {auc_score:.2f})\", color='red')\n",
    "plt.plot([0, 1], [0, 1], 'k--', lw=2)\n",
    "plt.xlabel('False Positive Rate')\n",
    "plt.ylabel('True Positive Rate')\n",
    "plt.title('ROC Curve')\n",
    "plt.legend(loc=\"lower right\")\n",
    "plt.grid(True)\n",
    "plt.show()"
   ]
  },
  {
   "cell_type": "markdown",
   "metadata": {},
   "source": [
    "#### Prueba Nro. 3\n",
    "\n",
    "Tratando el desbalanceo de clases con SMOTE."
   ]
  },
  {
   "cell_type": "code",
   "execution_count": 35,
   "metadata": {},
   "outputs": [
    {
     "name": "stdout",
     "output_type": "stream",
     "text": [
      "Original class distribution: [128078  10064]\n",
      "SMOTE class distribution: [128078 128078]\n"
     ]
    },
    {
     "name": "stderr",
     "output_type": "stream",
     "text": [
      "c:\\Users\\elisa\\OneDrive\\MÁSTER\\TFM\\VIU_TFM\\.venv\\Lib\\site-packages\\xgboost\\core.py:158: UserWarning: [20:16:17] WARNING: C:\\buildkite-agent\\builds\\buildkite-windows-cpu-autoscaling-group-i-0ed59c031377d09b8-1\\xgboost\\xgboost-ci-windows\\src\\learner.cc:740: \n",
      "Parameters: { \"use_label_encoder\" } are not used.\n",
      "\n",
      "  warnings.warn(smsg, UserWarning)\n",
      "2024/11/25 20:16:26 WARNING mlflow.models.model: Model logged without a signature and input example. Please set `input_example` parameter when logging the model to auto infer the model signature.\n"
     ]
    },
    {
     "name": "stdout",
     "output_type": "stream",
     "text": [
      "Distribución final de clases (conteo): [57881  1324]\n",
      "Distribución final de clases (porcentaje): [97.76370239  2.23629761]\n",
      "AUC: 0.6931\n",
      "Accuracy: 91.21%\n",
      "Precision: 0.1888\n",
      "Recall: 0.0571\n",
      "F1-Score: 0.0877\n",
      "Confusion Matrix:\n",
      "[[53753  1074]\n",
      " [ 4128   250]]\n"
     ]
    }
   ],
   "source": [
    "# Track each run\n",
    "with mlflow.start_run(experiment_id=exp_id, run_name=\"XGBoost - SMOTE\"):\n",
    "\n",
    "    # Original class distribution\n",
    "    print(f\"Original class distribution: {np.bincount(y_train)}\")\n",
    "\n",
    "    # Apply SMOTE to create synthetic instances for the minority class\n",
    "    smote = SMOTE(random_state=42)\n",
    "   \n",
    "    # Create train and test based on SMOTE sample to avoid overfitting on test sample\n",
    "    X_train_smote, y_train_smote = smote.fit_resample(X_train, y_train)\n",
    "\n",
    "    # SMOTE class distribution\n",
    "    print(f\"SMOTE class distribution: {np.bincount(y_train_smote)}\")\n",
    "\n",
    "    # Create and train XGBoost model\n",
    "    model = xgb.XGBClassifier(use_label_encoder=False, eval_metric='logloss', random_state=42)\n",
    "    trained_model = model.fit(X_train_smote, y_train_smote )\n",
    "\n",
    "    # Evaluate predictions in test dataset of positive class to calculate AUC\n",
    "    y_pred_auc = trained_model.predict_proba(X_test)[:, 1]\n",
    "    # Evaluate model for accuracy metric\n",
    "    y_pred = trained_model.predict(X_test)\n",
    "\n",
    "    # Classes distribution\n",
    "    class_distribution = np.bincount(y_pred, minlength=len(np.unique(y)))\n",
    "    class_distribution_percentage = (class_distribution / len(y_pred)) * 100\n",
    "\n",
    "    # Calculate metrics\n",
    "    auc_score = roc_auc_score(y_test, y_pred_auc)\n",
    "    accuracy = accuracy_score(y_test, y_pred)\n",
    "    precision = precision_score(y_test, y_pred)\n",
    "    recall = recall_score(y_test, y_pred)\n",
    "    f1 = f1_score(y_test, y_pred)\n",
    "    conf_matrix = confusion_matrix(y_test, y_pred)\n",
    "\n",
    "\n",
    "    # Track evaluation metric used for the model\n",
    "    mlflow.log_param('eval_metric', 'logloss')\n",
    "\n",
    "    # Track metrics\n",
    "    mlflow.log_metric('roc_auc_score', auc_score)\n",
    "    mlflow.log_metric('accuracy_score', accuracy)\n",
    "    mlflow.log_metric('precision_score', precision)\n",
    "    mlflow.log_metric('recall_score', recall)\n",
    "    mlflow.log_metric('f1_score', f1)\n",
    "\n",
    "    # Save model\n",
    "    mlflow.sklearn.log_model(trained_model, \"XGBoost - SMOTE\")\n",
    "\n",
    "    # Close MLflow tracking\n",
    "    mlflow.end_run()\n",
    "\n",
    "# Print results\n",
    "print(\"Distribución final de clases (conteo):\", class_distribution)\n",
    "print(\"Distribución final de clases (porcentaje):\", class_distribution_percentage)\n",
    "\n",
    "print(f\"AUC: {auc_score:.4f}\")\n",
    "print(f\"Accuracy: {accuracy * 100:.2f}%\")\n",
    "print(f\"Precision: {precision:.4f}\")\n",
    "print(f\"Recall: {recall:.4f}\")\n",
    "print(f\"F1-Score: {f1:.4f}\")\n",
    "print(\"Confusion Matrix:\")\n",
    "print(conf_matrix)"
   ]
  }
 ],
 "metadata": {
  "kernelspec": {
   "display_name": ".venv",
   "language": "python",
   "name": "python3"
  },
  "language_info": {
   "codemirror_mode": {
    "name": "ipython",
    "version": 3
   },
   "file_extension": ".py",
   "mimetype": "text/x-python",
   "name": "python",
   "nbconvert_exporter": "python",
   "pygments_lexer": "ipython3",
   "version": "3.12.3"
  }
 },
 "nbformat": 4,
 "nbformat_minor": 2
}
