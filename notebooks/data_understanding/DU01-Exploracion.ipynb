{
 "cells": [
  {
   "cell_type": "markdown",
   "metadata": {},
   "source": [
    "# Dataset Home Credit Default Risk\n",
    "\n",
    "Datos de clientes de la entidad Home Credit organizados en siete archivos diferentes según la información proporcionada: datos sobre la solicitud de crédito e historia crediticia (interna o de organizaciones externas reportadas en bureaus.)\n",
    "\n",
    "Home Credit es una compañía financiera internacional que opera en múltiples países europeos y asiáticos que opera en múltiples países europeos y asiáticos.\n",
    "\n",
    "*Objetivo del notebook*: Realizar una exploración y limpieza de los datos (EDA)"
   ]
  },
  {
   "cell_type": "markdown",
   "metadata": {},
   "source": [
    "## Exploración y limpieza de los datos"
   ]
  },
  {
   "cell_type": "markdown",
   "metadata": {},
   "source": [
    "### Carga de librerías"
   ]
  },
  {
   "cell_type": "code",
   "execution_count": 1,
   "metadata": {},
   "outputs": [],
   "source": [
    "import pandas as pd\n",
    "import numpy as np\n",
    "import dtale as dt\n",
    "import warnings\n",
    "import os\n",
    "warnings.filterwarnings('ignore')"
   ]
  },
  {
   "cell_type": "markdown",
   "metadata": {},
   "source": [
    "### Carga de ficheros"
   ]
  },
  {
   "cell_type": "code",
   "execution_count": 2,
   "metadata": {},
   "outputs": [],
   "source": [
    "path = \"../../data/raw/\"\n",
    "csv_files = {\n",
    "    \"application_train\": \"DS03_application_train.csv\",\n",
    "    \"bureau\": \"DS03_bureau.csv\",\n",
    "    \"previous_application\": \"DS03_previous_application.csv\"\n",
    "}\n",
    "\n",
    "# Load all files into a dictionary\n",
    "dict_data = {}\n",
    "for key, file in csv_files.items():\n",
    "    dict_data[key] = pd.read_csv(os.path.join(path,file))"
   ]
  },
  {
   "cell_type": "markdown",
   "metadata": {},
   "source": [
    "### Descripción dataset"
   ]
  },
  {
   "cell_type": "code",
   "execution_count": 3,
   "metadata": {},
   "outputs": [],
   "source": [
    "# Function to print the shape and unique data types per dataset\n",
    "def datasets_description(df, dataset_name):\n",
    "    print(f\"\\nDataset description: {dataset_name}\")\n",
    "    \n",
    "    # Print dataset shape\n",
    "    print(f\"\\nShape: {df[dataset_name].shape}\")\n",
    "    # Print unique data types\n",
    "    print(f\"Unique data types:\")\n",
    "    print(df[dataset_name].dtypes.value_counts())"
   ]
  },
  {
   "cell_type": "code",
   "execution_count": null,
   "metadata": {},
   "outputs": [],
   "source": [
    "for key in dict_data.keys():\n",
    "    datasets_description(dict_data, key)"
   ]
  },
  {
   "cell_type": "markdown",
   "metadata": {},
   "source": [
    "### Verificación de calidad\n",
    "\n",
    "Se ejecutan las siguientes evaluaciones. \n",
    "1. Dimensión consistencia: se evaluará la consistencia de claves de los datasets bureau y previous_application con respecto a application_train\n",
    "2. Dimensión de completitud: \n",
    "    - 2.1. Evaluación de valores nulos columnas\n",
    "    - 2.2. Evaluación de valores nulos filas\n",
    "3. Dimensión exactitud:\n",
    "    - 3.1. Evaluación de valores ajustados para atributos de tipo object\n",
    "    - 3.2. Evaluación de valores ajustados para atributos de tipo numéric (int y float)\n",
    "\n"
   ]
  },
  {
   "cell_type": "markdown",
   "metadata": {},
   "source": [
    "#### 1. Dimensión de consistencia\n",
    "\n",
    "Comprobaremos que las claves SK_ID_CURR presentes en bureau y previous application existen en application_train"
   ]
  },
  {
   "cell_type": "code",
   "execution_count": 4,
   "metadata": {},
   "outputs": [
    {
     "name": "stdout",
     "output_type": "stream",
     "text": [
      "\n",
      "Dataset bureau against application_train:\n",
      "\\Count of ids present in previous_application not matching ids in application_train: 42320\n",
      "\n",
      "Dataset previous_application against application_train:\n",
      "\\Count of ids present in previous_application not matching ids in application_train: 47800\n"
     ]
    }
   ],
   "source": [
    "def ids_consistency(df1, df2, id_column):\n",
    "    # Create sets with unique keys from both dfs\n",
    "    ids_df1 = set(df1[id_column].unique())\n",
    "    ids_df2 = set(df2[id_column].unique())\n",
    "    \n",
    "    # Find SK_ID_CURR in df1 that are not in df2\n",
    "    not_matching_ids=list(set(ids_df1) - set(ids_df2))\n",
    " \n",
    "    return len(not_matching_ids)\n",
    "\n",
    "for dataset_name in ['bureau', 'previous_application']:\n",
    "    print(f\"\\nDataset {dataset_name} against application_train:\")\n",
    "    res=ids_consistency(dict_data[dataset_name], dict_data['application_train'], 'SK_ID_CURR')\n",
    "    print(f\"\\Count of ids present in {key} not matching ids in application_train: {res}\")"
   ]
  },
  {
   "cell_type": "code",
   "execution_count": 5,
   "metadata": {},
   "outputs": [
    {
     "name": "stdout",
     "output_type": "stream",
     "text": [
      "\n",
      "Remove non-matching ids from bureau\n",
      "Revaluation count of ids present in previous_application not matching ids in application_train: 0\n",
      "\n",
      "Remove non-matching ids from previous_application\n",
      "Revaluation count of ids present in previous_application not matching ids in application_train: 0\n"
     ]
    }
   ],
   "source": [
    "def remove_nonmatching_ids(df1, df2, id_column):\n",
    "    # Remove rows from df1 where SK_ID_CURR not in df2, which is application_train.\n",
    "    dict_data[dataset_name] = df1[df1[id_column].isin(df2[id_column])]\n",
    "    return dict_data[dataset_name]\n",
    "\n",
    "\n",
    "for dataset_name in ['bureau', 'previous_application']:\n",
    "    print(f\"\\nRemove non-matching ids from {dataset_name}\")\n",
    "    dict_data[dataset_name]= remove_nonmatching_ids(dict_data[dataset_name], dict_data['application_train'], 'SK_ID_CURR')\n",
    "    # Revaluate ids_consistenci\n",
    "    res=ids_consistency(dict_data[dataset_name], dict_data['application_train'], 'SK_ID_CURR')\n",
    "    print(f\"Revaluation count of ids present in {key} not matching ids in application_train: {res}\")"
   ]
  },
  {
   "cell_type": "markdown",
   "metadata": {},
   "source": [
    "#### 2. Dimensión de completitud: Evaluación de valores nulos"
   ]
  },
  {
   "cell_type": "markdown",
   "metadata": {},
   "source": [
    "##### 2.1. A nivel atributos: comprobamos el % de missing values por cada atributo"
   ]
  },
  {
   "cell_type": "code",
   "execution_count": 6,
   "metadata": {},
   "outputs": [],
   "source": [
    "# Function to check the percentage of missing values\n",
    "def completeness_attributes(df):\n",
    "    percentage_nulls = df.isnull().sum() / len(df) * 100\n",
    "    cols_nulls = percentage_nulls[percentage_nulls > 0].sort_values(ascending=False) # Display only cols presenting missing values\n",
    "    return cols_nulls"
   ]
  },
  {
   "cell_type": "code",
   "execution_count": 7,
   "metadata": {},
   "outputs": [
    {
     "name": "stdout",
     "output_type": "stream",
     "text": [
      "\n",
      "application_train - Percentatges of null values for each attribute:\n",
      "COMMONAREA_MEDI             69.872297\n",
      "COMMONAREA_AVG              69.872297\n",
      "COMMONAREA_MODE             69.872297\n",
      "NONLIVINGAPARTMENTS_MEDI    69.432963\n",
      "NONLIVINGAPARTMENTS_MODE    69.432963\n",
      "                              ...    \n",
      "EXT_SOURCE_2                 0.214626\n",
      "AMT_GOODS_PRICE              0.090403\n",
      "AMT_ANNUITY                  0.003902\n",
      "CNT_FAM_MEMBERS              0.000650\n",
      "DAYS_LAST_PHONE_CHANGE       0.000325\n",
      "Length: 67, dtype: float64\n",
      "\n",
      "bureau - Percentatges of null values for each attribute:\n",
      "AMT_ANNUITY               77.116885\n",
      "AMT_CREDIT_MAX_OVERDUE    64.732738\n",
      "DAYS_ENDDATE_FACT         37.170798\n",
      "AMT_CREDIT_SUM_LIMIT      33.417160\n",
      "AMT_CREDIT_SUM_DEBT       15.224882\n",
      "DAYS_CREDIT_ENDDATE        6.080426\n",
      "AMT_CREDIT_SUM             0.000205\n",
      "dtype: float64\n",
      "\n",
      "previous_application - Percentatges of null values for each attribute:\n",
      "RATE_INTEREST_PRIMARY        99.661102\n",
      "RATE_INTEREST_PRIVILEGED     99.661102\n",
      "AMT_DOWN_PAYMENT             53.019698\n",
      "RATE_DOWN_PAYMENT            53.019698\n",
      "NAME_TYPE_SUITE              49.138538\n",
      "DAYS_FIRST_DRAWING           39.690571\n",
      "DAYS_FIRST_DUE               39.690571\n",
      "DAYS_LAST_DUE_1ST_VERSION    39.690571\n",
      "DAYS_LAST_DUE                39.690571\n",
      "DAYS_TERMINATION             39.690571\n",
      "NFLAG_INSURED_ON_APPROVAL    39.690571\n",
      "AMT_GOODS_PRICE              22.602021\n",
      "AMT_ANNUITY                  21.731469\n",
      "CNT_PAYMENT                  21.731116\n",
      "PRODUCT_COMBINATION           0.022140\n",
      "AMT_CREDIT                    0.000071\n",
      "dtype: float64\n"
     ]
    }
   ],
   "source": [
    "# Check missing percentage for each dataset\n",
    "for key in dict_data.keys():\n",
    "    print(f\"\\n{key} - Percentatges of null values for each attribute:\")\n",
    "    missing_percentage = completeness_attributes(dict_data[key])\n",
    "    print(missing_percentage)"
   ]
  },
  {
   "cell_type": "markdown",
   "metadata": {},
   "source": [
    "Se observan atributos con un porcentaje mayor al 65% de missing values. Se considera que estos atributos no cumplen el criterio de completitud y por tanto se eliminan de los datasets."
   ]
  },
  {
   "cell_type": "code",
   "execution_count": 8,
   "metadata": {},
   "outputs": [
    {
     "name": "stdout",
     "output_type": "stream",
     "text": [
      "\n",
      "Dataset application_train\n",
      "Dropped columns: ['OWN_CAR_AGE', 'YEARS_BUILD_AVG', 'COMMONAREA_AVG', 'FLOORSMIN_AVG', 'LIVINGAPARTMENTS_AVG', 'NONLIVINGAPARTMENTS_AVG', 'YEARS_BUILD_MODE', 'COMMONAREA_MODE', 'FLOORSMIN_MODE', 'LIVINGAPARTMENTS_MODE', 'NONLIVINGAPARTMENTS_MODE', 'YEARS_BUILD_MEDI', 'COMMONAREA_MEDI', 'FLOORSMIN_MEDI', 'LIVINGAPARTMENTS_MEDI', 'NONLIVINGAPARTMENTS_MEDI', 'FONDKAPREMONT_MODE']\n",
      "Final shape: (307511, 105)\n",
      "\n",
      "Dataset bureau\n",
      "Dropped columns: ['AMT_ANNUITY']\n",
      "Final shape: (1465325, 16)\n",
      "\n",
      "Dataset previous_application\n",
      "Dropped columns: ['RATE_INTEREST_PRIMARY', 'RATE_INTEREST_PRIVILEGED']\n",
      "Final shape: (1413701, 35)\n"
     ]
    }
   ],
   "source": [
    "# Function to remove columns with more than a 65% of missing values\n",
    "def drop_nulls_columns(df):\n",
    "    # Drop columns with more than 65% missing values\n",
    "    cols_to_drop = df.columns[df.isnull().sum() / len(df) > 0.65]\n",
    "    df.drop(columns=cols_to_drop, inplace=True)\n",
    "    print(f\"Dropped columns: {list(cols_to_drop)}\")\n",
    "    return df\n",
    "\n",
    "# Apply drop_nulls_columns to all datasets\n",
    "for key in dict_data.keys():\n",
    "    print(f\"\\nDataset {key}\")\n",
    "    dict_data[key] = drop_nulls_columns(dict_data[key])\n",
    "    print(f\"Final shape: {dict_data[key].shape}\")"
   ]
  },
  {
   "cell_type": "markdown",
   "metadata": {},
   "source": [
    "##### 2.2. A nivel atributos: comprobamos el % de atributos nulos por cada fila"
   ]
  },
  {
   "cell_type": "code",
   "execution_count": 9,
   "metadata": {},
   "outputs": [
    {
     "name": "stdout",
     "output_type": "stream",
     "text": [
      "\n",
      "Dataset description: application_train\n",
      "Percentage of rows exceeding the accepted threshold of missing values: 35.75%\n",
      "\n",
      "Dataset description: bureau\n",
      "Percentage of rows exceeding the accepted threshold of missing values: 0.87%\n",
      "\n",
      "Dataset description: previous_application\n",
      "Percentage of rows exceeding the accepted threshold of missing values: 19.43%\n"
     ]
    }
   ],
   "source": [
    "def completeness_rows(df,acceptance_threshold):\n",
    "    num_cols = len(df.axes[1])\n",
    "    # Create new column with the proportion of missing values per row\n",
    "    df['row_completeness'] = (df.isnull().sum(axis=1) / num_cols)\n",
    "    # Create subset with rows having more than 30% of missing values\n",
    "    rows_with_nulls = df[df['row_completeness'] >= acceptance_threshold]\n",
    "    completeness_r = rows_with_nulls.shape[0]\n",
    "    # Return the percentage of rows having more than 30% of missing values\n",
    "    return round((completeness_r / df.shape[0]) * 100, 2)\n",
    "\n",
    "# Rows exceeding the acceptance_threshold will be considered as invalid.\n",
    "acceptance_threshold = 0.3\n",
    "\n",
    "for key in dict_data.keys():\n",
    "    print(f\"\\nDataset {key}\")\n",
    "    perc_rows_above_threshold = completeness_rows(dict_data[key], acceptance_threshold)\n",
    "    print(f\"Percentage of rows exceeding the accepted threshold of missing values: {perc_rows_above_threshold}%\")"
   ]
  },
  {
   "cell_type": "markdown",
   "metadata": {},
   "source": [
    "Se eliminan las filas que tienen más de un 30% de atributos nulos"
   ]
  },
  {
   "cell_type": "code",
   "execution_count": 10,
   "metadata": {},
   "outputs": [],
   "source": [
    "def drop_nulls_rows(df):\n",
    "    # Remove rows with more than 30% of missing values.\n",
    "\n",
    "    # Count of rows not verifying the completeness criteria\n",
    "    cnt_rows=len(df[df['row_completeness']>= acceptance_threshold])\n",
    "    # Rewrite dataset removing incomplete rows\n",
    "    df=df.drop(df[df['row_completeness'] > acceptance_threshold].index)\n",
    "    # Removing row_completeness column \n",
    "    df.drop(columns='row_completeness', inplace=True)\n",
    "    print(f\"Number of rows deleted: {cnt_rows}. New shape of {key}: {df.shape}\")\n",
    "    return df"
   ]
  },
  {
   "cell_type": "code",
   "execution_count": 11,
   "metadata": {},
   "outputs": [
    {
     "name": "stdout",
     "output_type": "stream",
     "text": [
      "\n",
      "Dataset description: application_train\n",
      "Number of rows deleted: 109926. New shape of application_train: (197585, 105)\n",
      "\n",
      "Dataset description: bureau\n",
      "Number of rows deleted: 12813. New shape of bureau: (1452512, 16)\n",
      "\n",
      "Dataset description: previous_application\n",
      "Number of rows deleted: 274687. New shape of previous_application: (1139014, 35)\n"
     ]
    }
   ],
   "source": [
    "for key in dict_data.keys():\n",
    "    print(f\"\\nDataset {key}\")\n",
    "    dict_data[key] = drop_nulls_rows(dict_data[key])"
   ]
  },
  {
   "cell_type": "markdown",
   "metadata": {},
   "source": [
    "#### 3. Dimensión de exactitud: Valores ajustados"
   ]
  },
  {
   "cell_type": "markdown",
   "metadata": {},
   "source": [
    "##### 3.1. Analizamos las columnas de tipo object."
   ]
  },
  {
   "cell_type": "code",
   "execution_count": 12,
   "metadata": {},
   "outputs": [
    {
     "name": "stdout",
     "output_type": "stream",
     "text": [
      "\n",
      "Dataset description: application_train\n"
     ]
    },
    {
     "data": {
      "text/html": [
       "<div>\n",
       "<style scoped>\n",
       "    .dataframe tbody tr th:only-of-type {\n",
       "        vertical-align: middle;\n",
       "    }\n",
       "\n",
       "    .dataframe tbody tr th {\n",
       "        vertical-align: top;\n",
       "    }\n",
       "\n",
       "    .dataframe thead th {\n",
       "        text-align: right;\n",
       "    }\n",
       "</style>\n",
       "<table border=\"1\" class=\"dataframe\">\n",
       "  <thead>\n",
       "    <tr style=\"text-align: right;\">\n",
       "      <th></th>\n",
       "      <th>NAME_CONTRACT_TYPE</th>\n",
       "      <th>CODE_GENDER</th>\n",
       "      <th>FLAG_OWN_CAR</th>\n",
       "      <th>FLAG_OWN_REALTY</th>\n",
       "      <th>NAME_TYPE_SUITE</th>\n",
       "      <th>NAME_INCOME_TYPE</th>\n",
       "      <th>NAME_EDUCATION_TYPE</th>\n",
       "      <th>NAME_FAMILY_STATUS</th>\n",
       "      <th>NAME_HOUSING_TYPE</th>\n",
       "      <th>OCCUPATION_TYPE</th>\n",
       "      <th>WEEKDAY_APPR_PROCESS_START</th>\n",
       "      <th>ORGANIZATION_TYPE</th>\n",
       "      <th>HOUSETYPE_MODE</th>\n",
       "      <th>WALLSMATERIAL_MODE</th>\n",
       "      <th>EMERGENCYSTATE_MODE</th>\n",
       "    </tr>\n",
       "  </thead>\n",
       "  <tbody>\n",
       "    <tr>\n",
       "      <th>0</th>\n",
       "      <td>Cash loans</td>\n",
       "      <td>M</td>\n",
       "      <td>N</td>\n",
       "      <td>Y</td>\n",
       "      <td>Unaccompanied</td>\n",
       "      <td>Working</td>\n",
       "      <td>Secondary / secondary special</td>\n",
       "      <td>Single / not married</td>\n",
       "      <td>House / apartment</td>\n",
       "      <td>Laborers</td>\n",
       "      <td>WEDNESDAY</td>\n",
       "      <td>Business Entity Type 3</td>\n",
       "      <td>block of flats</td>\n",
       "      <td>Stone, brick</td>\n",
       "      <td>No</td>\n",
       "    </tr>\n",
       "    <tr>\n",
       "      <th>1</th>\n",
       "      <td>Cash loans</td>\n",
       "      <td>F</td>\n",
       "      <td>N</td>\n",
       "      <td>N</td>\n",
       "      <td>Family</td>\n",
       "      <td>State servant</td>\n",
       "      <td>Higher education</td>\n",
       "      <td>Married</td>\n",
       "      <td>House / apartment</td>\n",
       "      <td>Core staff</td>\n",
       "      <td>MONDAY</td>\n",
       "      <td>School</td>\n",
       "      <td>block of flats</td>\n",
       "      <td>Block</td>\n",
       "      <td>No</td>\n",
       "    </tr>\n",
       "    <tr>\n",
       "      <th>6</th>\n",
       "      <td>Cash loans</td>\n",
       "      <td>F</td>\n",
       "      <td>Y</td>\n",
       "      <td>Y</td>\n",
       "      <td>Unaccompanied</td>\n",
       "      <td>Commercial associate</td>\n",
       "      <td>Higher education</td>\n",
       "      <td>Married</td>\n",
       "      <td>House / apartment</td>\n",
       "      <td>Accountants</td>\n",
       "      <td>SUNDAY</td>\n",
       "      <td>Business Entity Type 3</td>\n",
       "      <td>NaN</td>\n",
       "      <td>NaN</td>\n",
       "      <td>NaN</td>\n",
       "    </tr>\n",
       "    <tr>\n",
       "      <th>10</th>\n",
       "      <td>Cash loans</td>\n",
       "      <td>F</td>\n",
       "      <td>N</td>\n",
       "      <td>Y</td>\n",
       "      <td>Unaccompanied</td>\n",
       "      <td>Working</td>\n",
       "      <td>Higher education</td>\n",
       "      <td>Married</td>\n",
       "      <td>House / apartment</td>\n",
       "      <td>Core staff</td>\n",
       "      <td>SATURDAY</td>\n",
       "      <td>Medicine</td>\n",
       "      <td>NaN</td>\n",
       "      <td>NaN</td>\n",
       "      <td>NaN</td>\n",
       "    </tr>\n",
       "    <tr>\n",
       "      <th>12</th>\n",
       "      <td>Cash loans</td>\n",
       "      <td>F</td>\n",
       "      <td>N</td>\n",
       "      <td>Y</td>\n",
       "      <td>Unaccompanied</td>\n",
       "      <td>Working</td>\n",
       "      <td>Secondary / secondary special</td>\n",
       "      <td>Married</td>\n",
       "      <td>House / apartment</td>\n",
       "      <td>Laborers</td>\n",
       "      <td>FRIDAY</td>\n",
       "      <td>Business Entity Type 2</td>\n",
       "      <td>block of flats</td>\n",
       "      <td>NaN</td>\n",
       "      <td>No</td>\n",
       "    </tr>\n",
       "  </tbody>\n",
       "</table>\n",
       "</div>"
      ],
      "text/plain": [
       "   NAME_CONTRACT_TYPE CODE_GENDER FLAG_OWN_CAR FLAG_OWN_REALTY  \\\n",
       "0          Cash loans           M            N               Y   \n",
       "1          Cash loans           F            N               N   \n",
       "6          Cash loans           F            Y               Y   \n",
       "10         Cash loans           F            N               Y   \n",
       "12         Cash loans           F            N               Y   \n",
       "\n",
       "   NAME_TYPE_SUITE      NAME_INCOME_TYPE            NAME_EDUCATION_TYPE  \\\n",
       "0    Unaccompanied               Working  Secondary / secondary special   \n",
       "1           Family         State servant               Higher education   \n",
       "6    Unaccompanied  Commercial associate               Higher education   \n",
       "10   Unaccompanied               Working               Higher education   \n",
       "12   Unaccompanied               Working  Secondary / secondary special   \n",
       "\n",
       "      NAME_FAMILY_STATUS  NAME_HOUSING_TYPE OCCUPATION_TYPE  \\\n",
       "0   Single / not married  House / apartment        Laborers   \n",
       "1                Married  House / apartment      Core staff   \n",
       "6                Married  House / apartment     Accountants   \n",
       "10               Married  House / apartment      Core staff   \n",
       "12               Married  House / apartment        Laborers   \n",
       "\n",
       "   WEEKDAY_APPR_PROCESS_START       ORGANIZATION_TYPE  HOUSETYPE_MODE  \\\n",
       "0                   WEDNESDAY  Business Entity Type 3  block of flats   \n",
       "1                      MONDAY                  School  block of flats   \n",
       "6                      SUNDAY  Business Entity Type 3             NaN   \n",
       "10                   SATURDAY                Medicine             NaN   \n",
       "12                     FRIDAY  Business Entity Type 2  block of flats   \n",
       "\n",
       "   WALLSMATERIAL_MODE EMERGENCYSTATE_MODE  \n",
       "0        Stone, brick                  No  \n",
       "1               Block                  No  \n",
       "6                 NaN                 NaN  \n",
       "10                NaN                 NaN  \n",
       "12                NaN                  No  "
      ]
     },
     "metadata": {},
     "output_type": "display_data"
    },
    {
     "name": "stdout",
     "output_type": "stream",
     "text": [
      "\n",
      "Dataset description: bureau\n"
     ]
    },
    {
     "data": {
      "text/html": [
       "<div>\n",
       "<style scoped>\n",
       "    .dataframe tbody tr th:only-of-type {\n",
       "        vertical-align: middle;\n",
       "    }\n",
       "\n",
       "    .dataframe tbody tr th {\n",
       "        vertical-align: top;\n",
       "    }\n",
       "\n",
       "    .dataframe thead th {\n",
       "        text-align: right;\n",
       "    }\n",
       "</style>\n",
       "<table border=\"1\" class=\"dataframe\">\n",
       "  <thead>\n",
       "    <tr style=\"text-align: right;\">\n",
       "      <th></th>\n",
       "      <th>CREDIT_ACTIVE</th>\n",
       "      <th>CREDIT_CURRENCY</th>\n",
       "      <th>CREDIT_TYPE</th>\n",
       "    </tr>\n",
       "  </thead>\n",
       "  <tbody>\n",
       "    <tr>\n",
       "      <th>0</th>\n",
       "      <td>Closed</td>\n",
       "      <td>currency 1</td>\n",
       "      <td>Consumer credit</td>\n",
       "    </tr>\n",
       "    <tr>\n",
       "      <th>1</th>\n",
       "      <td>Active</td>\n",
       "      <td>currency 1</td>\n",
       "      <td>Credit card</td>\n",
       "    </tr>\n",
       "    <tr>\n",
       "      <th>2</th>\n",
       "      <td>Active</td>\n",
       "      <td>currency 1</td>\n",
       "      <td>Consumer credit</td>\n",
       "    </tr>\n",
       "    <tr>\n",
       "      <th>4</th>\n",
       "      <td>Active</td>\n",
       "      <td>currency 1</td>\n",
       "      <td>Consumer credit</td>\n",
       "    </tr>\n",
       "    <tr>\n",
       "      <th>5</th>\n",
       "      <td>Active</td>\n",
       "      <td>currency 1</td>\n",
       "      <td>Credit card</td>\n",
       "    </tr>\n",
       "  </tbody>\n",
       "</table>\n",
       "</div>"
      ],
      "text/plain": [
       "  CREDIT_ACTIVE CREDIT_CURRENCY      CREDIT_TYPE\n",
       "0        Closed      currency 1  Consumer credit\n",
       "1        Active      currency 1      Credit card\n",
       "2        Active      currency 1  Consumer credit\n",
       "4        Active      currency 1  Consumer credit\n",
       "5        Active      currency 1      Credit card"
      ]
     },
     "metadata": {},
     "output_type": "display_data"
    },
    {
     "name": "stdout",
     "output_type": "stream",
     "text": [
      "\n",
      "Dataset description: previous_application\n"
     ]
    },
    {
     "data": {
      "text/html": [
       "<div>\n",
       "<style scoped>\n",
       "    .dataframe tbody tr th:only-of-type {\n",
       "        vertical-align: middle;\n",
       "    }\n",
       "\n",
       "    .dataframe tbody tr th {\n",
       "        vertical-align: top;\n",
       "    }\n",
       "\n",
       "    .dataframe thead th {\n",
       "        text-align: right;\n",
       "    }\n",
       "</style>\n",
       "<table border=\"1\" class=\"dataframe\">\n",
       "  <thead>\n",
       "    <tr style=\"text-align: right;\">\n",
       "      <th></th>\n",
       "      <th>NAME_CONTRACT_TYPE</th>\n",
       "      <th>WEEKDAY_APPR_PROCESS_START</th>\n",
       "      <th>FLAG_LAST_APPL_PER_CONTRACT</th>\n",
       "      <th>NAME_CASH_LOAN_PURPOSE</th>\n",
       "      <th>NAME_CONTRACT_STATUS</th>\n",
       "      <th>NAME_PAYMENT_TYPE</th>\n",
       "      <th>CODE_REJECT_REASON</th>\n",
       "      <th>NAME_TYPE_SUITE</th>\n",
       "      <th>NAME_CLIENT_TYPE</th>\n",
       "      <th>NAME_GOODS_CATEGORY</th>\n",
       "      <th>NAME_PORTFOLIO</th>\n",
       "      <th>NAME_PRODUCT_TYPE</th>\n",
       "      <th>CHANNEL_TYPE</th>\n",
       "      <th>NAME_SELLER_INDUSTRY</th>\n",
       "      <th>NAME_YIELD_GROUP</th>\n",
       "      <th>PRODUCT_COMBINATION</th>\n",
       "    </tr>\n",
       "  </thead>\n",
       "  <tbody>\n",
       "    <tr>\n",
       "      <th>0</th>\n",
       "      <td>Consumer loans</td>\n",
       "      <td>SATURDAY</td>\n",
       "      <td>Y</td>\n",
       "      <td>XAP</td>\n",
       "      <td>Approved</td>\n",
       "      <td>Cash through the bank</td>\n",
       "      <td>XAP</td>\n",
       "      <td>NaN</td>\n",
       "      <td>Repeater</td>\n",
       "      <td>Mobile</td>\n",
       "      <td>POS</td>\n",
       "      <td>XNA</td>\n",
       "      <td>Country-wide</td>\n",
       "      <td>Connectivity</td>\n",
       "      <td>middle</td>\n",
       "      <td>POS mobile with interest</td>\n",
       "    </tr>\n",
       "    <tr>\n",
       "      <th>1</th>\n",
       "      <td>Cash loans</td>\n",
       "      <td>THURSDAY</td>\n",
       "      <td>Y</td>\n",
       "      <td>XNA</td>\n",
       "      <td>Approved</td>\n",
       "      <td>XNA</td>\n",
       "      <td>XAP</td>\n",
       "      <td>Unaccompanied</td>\n",
       "      <td>Repeater</td>\n",
       "      <td>XNA</td>\n",
       "      <td>Cash</td>\n",
       "      <td>x-sell</td>\n",
       "      <td>Contact center</td>\n",
       "      <td>XNA</td>\n",
       "      <td>low_action</td>\n",
       "      <td>Cash X-Sell: low</td>\n",
       "    </tr>\n",
       "    <tr>\n",
       "      <th>2</th>\n",
       "      <td>Cash loans</td>\n",
       "      <td>TUESDAY</td>\n",
       "      <td>Y</td>\n",
       "      <td>XNA</td>\n",
       "      <td>Approved</td>\n",
       "      <td>Cash through the bank</td>\n",
       "      <td>XAP</td>\n",
       "      <td>Spouse, partner</td>\n",
       "      <td>Repeater</td>\n",
       "      <td>XNA</td>\n",
       "      <td>Cash</td>\n",
       "      <td>x-sell</td>\n",
       "      <td>Credit and cash offices</td>\n",
       "      <td>XNA</td>\n",
       "      <td>high</td>\n",
       "      <td>Cash X-Sell: high</td>\n",
       "    </tr>\n",
       "    <tr>\n",
       "      <th>3</th>\n",
       "      <td>Cash loans</td>\n",
       "      <td>MONDAY</td>\n",
       "      <td>Y</td>\n",
       "      <td>XNA</td>\n",
       "      <td>Approved</td>\n",
       "      <td>Cash through the bank</td>\n",
       "      <td>XAP</td>\n",
       "      <td>NaN</td>\n",
       "      <td>Repeater</td>\n",
       "      <td>XNA</td>\n",
       "      <td>Cash</td>\n",
       "      <td>x-sell</td>\n",
       "      <td>Credit and cash offices</td>\n",
       "      <td>XNA</td>\n",
       "      <td>middle</td>\n",
       "      <td>Cash X-Sell: middle</td>\n",
       "    </tr>\n",
       "    <tr>\n",
       "      <th>4</th>\n",
       "      <td>Cash loans</td>\n",
       "      <td>THURSDAY</td>\n",
       "      <td>Y</td>\n",
       "      <td>Repairs</td>\n",
       "      <td>Refused</td>\n",
       "      <td>Cash through the bank</td>\n",
       "      <td>HC</td>\n",
       "      <td>NaN</td>\n",
       "      <td>Repeater</td>\n",
       "      <td>XNA</td>\n",
       "      <td>Cash</td>\n",
       "      <td>walk-in</td>\n",
       "      <td>Credit and cash offices</td>\n",
       "      <td>XNA</td>\n",
       "      <td>high</td>\n",
       "      <td>Cash Street: high</td>\n",
       "    </tr>\n",
       "  </tbody>\n",
       "</table>\n",
       "</div>"
      ],
      "text/plain": [
       "  NAME_CONTRACT_TYPE WEEKDAY_APPR_PROCESS_START FLAG_LAST_APPL_PER_CONTRACT  \\\n",
       "0     Consumer loans                   SATURDAY                           Y   \n",
       "1         Cash loans                   THURSDAY                           Y   \n",
       "2         Cash loans                    TUESDAY                           Y   \n",
       "3         Cash loans                     MONDAY                           Y   \n",
       "4         Cash loans                   THURSDAY                           Y   \n",
       "\n",
       "  NAME_CASH_LOAN_PURPOSE NAME_CONTRACT_STATUS      NAME_PAYMENT_TYPE  \\\n",
       "0                    XAP             Approved  Cash through the bank   \n",
       "1                    XNA             Approved                    XNA   \n",
       "2                    XNA             Approved  Cash through the bank   \n",
       "3                    XNA             Approved  Cash through the bank   \n",
       "4                Repairs              Refused  Cash through the bank   \n",
       "\n",
       "  CODE_REJECT_REASON  NAME_TYPE_SUITE NAME_CLIENT_TYPE NAME_GOODS_CATEGORY  \\\n",
       "0                XAP              NaN         Repeater              Mobile   \n",
       "1                XAP    Unaccompanied         Repeater                 XNA   \n",
       "2                XAP  Spouse, partner         Repeater                 XNA   \n",
       "3                XAP              NaN         Repeater                 XNA   \n",
       "4                 HC              NaN         Repeater                 XNA   \n",
       "\n",
       "  NAME_PORTFOLIO NAME_PRODUCT_TYPE             CHANNEL_TYPE  \\\n",
       "0            POS               XNA             Country-wide   \n",
       "1           Cash            x-sell           Contact center   \n",
       "2           Cash            x-sell  Credit and cash offices   \n",
       "3           Cash            x-sell  Credit and cash offices   \n",
       "4           Cash           walk-in  Credit and cash offices   \n",
       "\n",
       "  NAME_SELLER_INDUSTRY NAME_YIELD_GROUP       PRODUCT_COMBINATION  \n",
       "0         Connectivity           middle  POS mobile with interest  \n",
       "1                  XNA       low_action          Cash X-Sell: low  \n",
       "2                  XNA             high         Cash X-Sell: high  \n",
       "3                  XNA           middle       Cash X-Sell: middle  \n",
       "4                  XNA             high         Cash Street: high  "
      ]
     },
     "metadata": {},
     "output_type": "display_data"
    }
   ],
   "source": [
    "#Visualization of columns of object type\n",
    "for key in dict_data.keys():\n",
    "    print(f\"\\nDataset {key}\")\n",
    "    display(dict_data[key].select_dtypes(include='object').head(5))"
   ]
  },
  {
   "cell_type": "markdown",
   "metadata": {},
   "source": [
    "Todas las columnas de object type son de tipo categórico. Estudiamos los posibles valores de cada una para identificar valores fuera de rango."
   ]
  },
  {
   "cell_type": "code",
   "execution_count": 13,
   "metadata": {},
   "outputs": [],
   "source": [
    "# Function to return unique values per each object column\n",
    "def unique_values(df):\n",
    "    unique_values = {}\n",
    "    cols=list(df.select_dtypes(include='object'))\n",
    "    if len(cols)!=0:\n",
    "        for column in cols:\n",
    "            unique_values[column] = [df[column].unique()]  # Convertir los valores únicos en una lista\n",
    "        df_unique=pd.DataFrame(unique_values).T\n",
    "        df_unique.columns = ['UNIQUE_VALUES']\n",
    "        df_unique.index.name = 'ATTRIBUTE'\n",
    "        return df_unique\n",
    "    else:\n",
    "        return \"No columns of object type\""
   ]
  },
  {
   "cell_type": "code",
   "execution_count": 14,
   "metadata": {},
   "outputs": [
    {
     "name": "stdout",
     "output_type": "stream",
     "text": [
      "\n",
      "Dataset application_train\n"
     ]
    },
    {
     "data": {
      "text/html": [
       "<div>\n",
       "<style scoped>\n",
       "    .dataframe tbody tr th:only-of-type {\n",
       "        vertical-align: middle;\n",
       "    }\n",
       "\n",
       "    .dataframe tbody tr th {\n",
       "        vertical-align: top;\n",
       "    }\n",
       "\n",
       "    .dataframe thead th {\n",
       "        text-align: right;\n",
       "    }\n",
       "</style>\n",
       "<table border=\"1\" class=\"dataframe\">\n",
       "  <thead>\n",
       "    <tr style=\"text-align: right;\">\n",
       "      <th></th>\n",
       "      <th>UNIQUE_VALUES</th>\n",
       "    </tr>\n",
       "    <tr>\n",
       "      <th>ATTRIBUTE</th>\n",
       "      <th></th>\n",
       "    </tr>\n",
       "  </thead>\n",
       "  <tbody>\n",
       "    <tr>\n",
       "      <th>NAME_CONTRACT_TYPE</th>\n",
       "      <td>[Cash loans, Revolving loans]</td>\n",
       "    </tr>\n",
       "    <tr>\n",
       "      <th>CODE_GENDER</th>\n",
       "      <td>[M, F, XNA]</td>\n",
       "    </tr>\n",
       "    <tr>\n",
       "      <th>FLAG_OWN_CAR</th>\n",
       "      <td>[N, Y]</td>\n",
       "    </tr>\n",
       "    <tr>\n",
       "      <th>FLAG_OWN_REALTY</th>\n",
       "      <td>[Y, N]</td>\n",
       "    </tr>\n",
       "    <tr>\n",
       "      <th>NAME_TYPE_SUITE</th>\n",
       "      <td>[Unaccompanied, Family, Other_A, nan, Spouse, partner, Other_B, Children, Group of people]</td>\n",
       "    </tr>\n",
       "    <tr>\n",
       "      <th>NAME_INCOME_TYPE</th>\n",
       "      <td>[Working, State servant, Commercial associate, Pensioner, Unemployed, Student, Businessman, Maternity leave]</td>\n",
       "    </tr>\n",
       "    <tr>\n",
       "      <th>NAME_EDUCATION_TYPE</th>\n",
       "      <td>[Secondary / secondary special, Higher education, Incomplete higher, Lower secondary, Academic degree]</td>\n",
       "    </tr>\n",
       "    <tr>\n",
       "      <th>NAME_FAMILY_STATUS</th>\n",
       "      <td>[Single / not married, Married, Widow, Civil marriage, Separated, Unknown]</td>\n",
       "    </tr>\n",
       "    <tr>\n",
       "      <th>NAME_HOUSING_TYPE</th>\n",
       "      <td>[House / apartment, Rented apartment, With parents, Municipal apartment, Office apartment, Co-op apartment]</td>\n",
       "    </tr>\n",
       "    <tr>\n",
       "      <th>OCCUPATION_TYPE</th>\n",
       "      <td>[Laborers, Core staff, Accountants, Drivers, Sales staff, nan, Cleaning staff, Cooking staff, Private service staff, Managers, Security staff, Low-skill Laborers, Realty agents, Secretaries, High skill tech staff, Medicine staff, IT staff, HR staff, Waiters/barmen staff]</td>\n",
       "    </tr>\n",
       "    <tr>\n",
       "      <th>WEEKDAY_APPR_PROCESS_START</th>\n",
       "      <td>[WEDNESDAY, MONDAY, SUNDAY, SATURDAY, FRIDAY, THURSDAY, TUESDAY]</td>\n",
       "    </tr>\n",
       "    <tr>\n",
       "      <th>ORGANIZATION_TYPE</th>\n",
       "      <td>[Business Entity Type 3, School, Medicine, Business Entity Type 2, Self-employed, Transport: type 2, Housing, Trade: type 7, XNA, Services, Security Ministries, Other, Transport: type 4, Government, Emergency, Security, Industry: type 11, Trade: type 2, Transport: type 3, Police, Construction, Kindergarten, Agriculture, Restaurant, Culture, Hotel, Industry: type 3, Bank, Military, Trade: type 3, Industry: type 9, Business Entity Type 1, Postal, Trade: type 6, Industry: type 2, Electricity, University, Industry: type 12, Industry: type 1, Industry: type 4, Industry: type 7, Insurance, Mobile, Trade: type 1, Industry: type 10, Legal Services, Industry: type 5, Advertising, Trade: type 5, Trade: type 4, Telecom, Realtor, Cleaning, Industry: type 6, Transport: type 1, Industry: type 8, Religion, Industry: type 13]</td>\n",
       "    </tr>\n",
       "    <tr>\n",
       "      <th>HOUSETYPE_MODE</th>\n",
       "      <td>[block of flats, nan, terraced house, specific housing]</td>\n",
       "    </tr>\n",
       "    <tr>\n",
       "      <th>WALLSMATERIAL_MODE</th>\n",
       "      <td>[Stone, brick, Block, nan, Panel, Mixed, Wooden, Others, Monolithic]</td>\n",
       "    </tr>\n",
       "    <tr>\n",
       "      <th>EMERGENCYSTATE_MODE</th>\n",
       "      <td>[No, nan, Yes]</td>\n",
       "    </tr>\n",
       "  </tbody>\n",
       "</table>\n",
       "</div>"
      ],
      "text/plain": [
       "                                                                                                                                                                                                                                                                                                                                                                                                                                                                                                                                                                                                                                                                                                                                                                                                                                                                    UNIQUE_VALUES\n",
       "ATTRIBUTE                                                                                                                                                                                                                                                                                                                                                                                                                                                                                                                                                                                                                                                                                                                                                                                                                                                                        \n",
       "NAME_CONTRACT_TYPE                                                                                                                                                                                                                                                                                                                                                                                                                                                                                                                                                                                                                                                                                                                                                                                                                                  [Cash loans, Revolving loans]\n",
       "CODE_GENDER                                                                                                                                                                                                                                                                                                                                                                                                                                                                                                                                                                                                                                                                                                                                                                                                                                                           [M, F, XNA]\n",
       "FLAG_OWN_CAR                                                                                                                                                                                                                                                                                                                                                                                                                                                                                                                                                                                                                                                                                                                                                                                                                                                               [N, Y]\n",
       "FLAG_OWN_REALTY                                                                                                                                                                                                                                                                                                                                                                                                                                                                                                                                                                                                                                                                                                                                                                                                                                                            [Y, N]\n",
       "NAME_TYPE_SUITE                                                                                                                                                                                                                                                                                                                                                                                                                                                                                                                                                                                                                                                                                                                                                                        [Unaccompanied, Family, Other_A, nan, Spouse, partner, Other_B, Children, Group of people]\n",
       "NAME_INCOME_TYPE                                                                                                                                                                                                                                                                                                                                                                                                                                                                                                                                                                                                                                                                                                                                                     [Working, State servant, Commercial associate, Pensioner, Unemployed, Student, Businessman, Maternity leave]\n",
       "NAME_EDUCATION_TYPE                                                                                                                                                                                                                                                                                                                                                                                                                                                                                                                                                                                                                                                                                                                                                        [Secondary / secondary special, Higher education, Incomplete higher, Lower secondary, Academic degree]\n",
       "NAME_FAMILY_STATUS                                                                                                                                                                                                                                                                                                                                                                                                                                                                                                                                                                                                                                                                                                                                                                                     [Single / not married, Married, Widow, Civil marriage, Separated, Unknown]\n",
       "NAME_HOUSING_TYPE                                                                                                                                                                                                                                                                                                                                                                                                                                                                                                                                                                                                                                                                                                                                                     [House / apartment, Rented apartment, With parents, Municipal apartment, Office apartment, Co-op apartment]\n",
       "OCCUPATION_TYPE                                                                                                                                                                                                                                                                                                                                                                                                                                                                                                                                                                                   [Laborers, Core staff, Accountants, Drivers, Sales staff, nan, Cleaning staff, Cooking staff, Private service staff, Managers, Security staff, Low-skill Laborers, Realty agents, Secretaries, High skill tech staff, Medicine staff, IT staff, HR staff, Waiters/barmen staff]\n",
       "WEEKDAY_APPR_PROCESS_START                                                                                                                                                                                                                                                                                                                                                                                                                                                                                                                                                                                                                                                                                                                                                                                       [WEDNESDAY, MONDAY, SUNDAY, SATURDAY, FRIDAY, THURSDAY, TUESDAY]\n",
       "ORGANIZATION_TYPE           [Business Entity Type 3, School, Medicine, Business Entity Type 2, Self-employed, Transport: type 2, Housing, Trade: type 7, XNA, Services, Security Ministries, Other, Transport: type 4, Government, Emergency, Security, Industry: type 11, Trade: type 2, Transport: type 3, Police, Construction, Kindergarten, Agriculture, Restaurant, Culture, Hotel, Industry: type 3, Bank, Military, Trade: type 3, Industry: type 9, Business Entity Type 1, Postal, Trade: type 6, Industry: type 2, Electricity, University, Industry: type 12, Industry: type 1, Industry: type 4, Industry: type 7, Insurance, Mobile, Trade: type 1, Industry: type 10, Legal Services, Industry: type 5, Advertising, Trade: type 5, Trade: type 4, Telecom, Realtor, Cleaning, Industry: type 6, Transport: type 1, Industry: type 8, Religion, Industry: type 13]\n",
       "HOUSETYPE_MODE                                                                                                                                                                                                                                                                                                                                                                                                                                                                                                                                                                                                                                                                                                                                                                                                            [block of flats, nan, terraced house, specific housing]\n",
       "WALLSMATERIAL_MODE                                                                                                                                                                                                                                                                                                                                                                                                                                                                                                                                                                                                                                                                                                                                                                                           [Stone, brick, Block, nan, Panel, Mixed, Wooden, Others, Monolithic]\n",
       "EMERGENCYSTATE_MODE                                                                                                                                                                                                                                                                                                                                                                                                                                                                                                                                                                                                                                                                                                                                                                                                                                                [No, nan, Yes]"
      ]
     },
     "metadata": {},
     "output_type": "display_data"
    },
    {
     "name": "stdout",
     "output_type": "stream",
     "text": [
      "\n",
      "Dataset bureau\n"
     ]
    },
    {
     "data": {
      "text/html": [
       "<div>\n",
       "<style scoped>\n",
       "    .dataframe tbody tr th:only-of-type {\n",
       "        vertical-align: middle;\n",
       "    }\n",
       "\n",
       "    .dataframe tbody tr th {\n",
       "        vertical-align: top;\n",
       "    }\n",
       "\n",
       "    .dataframe thead th {\n",
       "        text-align: right;\n",
       "    }\n",
       "</style>\n",
       "<table border=\"1\" class=\"dataframe\">\n",
       "  <thead>\n",
       "    <tr style=\"text-align: right;\">\n",
       "      <th></th>\n",
       "      <th>UNIQUE_VALUES</th>\n",
       "    </tr>\n",
       "    <tr>\n",
       "      <th>ATTRIBUTE</th>\n",
       "      <th></th>\n",
       "    </tr>\n",
       "  </thead>\n",
       "  <tbody>\n",
       "    <tr>\n",
       "      <th>CREDIT_ACTIVE</th>\n",
       "      <td>[Closed, Active, Sold, Bad debt]</td>\n",
       "    </tr>\n",
       "    <tr>\n",
       "      <th>CREDIT_CURRENCY</th>\n",
       "      <td>[currency 1, currency 2, currency 4, currency 3]</td>\n",
       "    </tr>\n",
       "    <tr>\n",
       "      <th>CREDIT_TYPE</th>\n",
       "      <td>[Consumer credit, Credit card, Mortgage, Car loan, Microloan, Loan for working capital replenishment, Loan for business development, Unknown type of loan, Another type of loan, Real estate loan, Loan for the purchase of equipment, Cash loan (non-earmarked), Mobile operator loan, Interbank credit, Loan for purchase of shares (margin lending)]</td>\n",
       "    </tr>\n",
       "  </tbody>\n",
       "</table>\n",
       "</div>"
      ],
      "text/plain": [
       "                                                                                                                                                                                                                                                                                                                                                           UNIQUE_VALUES\n",
       "ATTRIBUTE                                                                                                                                                                                                                                                                                                                                                               \n",
       "CREDIT_ACTIVE                                                                                                                                                                                                                                                                                                                           [Closed, Active, Sold, Bad debt]\n",
       "CREDIT_CURRENCY                                                                                                                                                                                                                                                                                                         [currency 1, currency 2, currency 4, currency 3]\n",
       "CREDIT_TYPE      [Consumer credit, Credit card, Mortgage, Car loan, Microloan, Loan for working capital replenishment, Loan for business development, Unknown type of loan, Another type of loan, Real estate loan, Loan for the purchase of equipment, Cash loan (non-earmarked), Mobile operator loan, Interbank credit, Loan for purchase of shares (margin lending)]"
      ]
     },
     "metadata": {},
     "output_type": "display_data"
    },
    {
     "name": "stdout",
     "output_type": "stream",
     "text": [
      "\n",
      "Dataset previous_application\n"
     ]
    },
    {
     "data": {
      "text/html": [
       "<div>\n",
       "<style scoped>\n",
       "    .dataframe tbody tr th:only-of-type {\n",
       "        vertical-align: middle;\n",
       "    }\n",
       "\n",
       "    .dataframe tbody tr th {\n",
       "        vertical-align: top;\n",
       "    }\n",
       "\n",
       "    .dataframe thead th {\n",
       "        text-align: right;\n",
       "    }\n",
       "</style>\n",
       "<table border=\"1\" class=\"dataframe\">\n",
       "  <thead>\n",
       "    <tr style=\"text-align: right;\">\n",
       "      <th></th>\n",
       "      <th>UNIQUE_VALUES</th>\n",
       "    </tr>\n",
       "    <tr>\n",
       "      <th>ATTRIBUTE</th>\n",
       "      <th></th>\n",
       "    </tr>\n",
       "  </thead>\n",
       "  <tbody>\n",
       "    <tr>\n",
       "      <th>NAME_CONTRACT_TYPE</th>\n",
       "      <td>[Consumer loans, Cash loans, Revolving loans]</td>\n",
       "    </tr>\n",
       "    <tr>\n",
       "      <th>WEEKDAY_APPR_PROCESS_START</th>\n",
       "      <td>[SATURDAY, THURSDAY, TUESDAY, MONDAY, FRIDAY, WEDNESDAY, SUNDAY]</td>\n",
       "    </tr>\n",
       "    <tr>\n",
       "      <th>FLAG_LAST_APPL_PER_CONTRACT</th>\n",
       "      <td>[Y, N]</td>\n",
       "    </tr>\n",
       "    <tr>\n",
       "      <th>NAME_CASH_LOAN_PURPOSE</th>\n",
       "      <td>[XAP, XNA, Repairs, Everyday expenses, Building a house or an annex, Other, Purchase of electronic equipment, Medicine, Payments on other loans, Urgent needs, Buying a used car, Buying a new car, Buying a holiday home / land, Education, Buying a home, Journey, Car repairs, Furniture, Buying a garage, Business development, Hobby, Wedding / gift / holiday, Gasification / water supply, Refusal to name the goal, Money for a third person]</td>\n",
       "    </tr>\n",
       "    <tr>\n",
       "      <th>NAME_CONTRACT_STATUS</th>\n",
       "      <td>[Approved, Refused, Unused offer, Canceled]</td>\n",
       "    </tr>\n",
       "    <tr>\n",
       "      <th>NAME_PAYMENT_TYPE</th>\n",
       "      <td>[Cash through the bank, XNA, Non-cash from your account, Cashless from the account of the employer]</td>\n",
       "    </tr>\n",
       "    <tr>\n",
       "      <th>CODE_REJECT_REASON</th>\n",
       "      <td>[XAP, HC, LIMIT, SCOFR, CLIENT, SCO, XNA, VERIF, SYSTEM]</td>\n",
       "    </tr>\n",
       "    <tr>\n",
       "      <th>NAME_TYPE_SUITE</th>\n",
       "      <td>[nan, Unaccompanied, Spouse, partner, Family, Children, Other_B, Other_A, Group of people]</td>\n",
       "    </tr>\n",
       "    <tr>\n",
       "      <th>NAME_CLIENT_TYPE</th>\n",
       "      <td>[Repeater, New, Refreshed, XNA]</td>\n",
       "    </tr>\n",
       "    <tr>\n",
       "      <th>NAME_GOODS_CATEGORY</th>\n",
       "      <td>[Mobile, XNA, Auto Accessories, Photo / Cinema Equipment, Audio/Video, Consumer Electronics, Computers, Medicine, Furniture, Sport and Leisure, Homewares, Clothing and Accessories, Gardening, Construction Materials, Jewelry, Vehicles, Medical Supplies, Other, Direct Sales, Office Appliances, Fitness, Education, Tourism, Insurance, Additional Service, Weapon, Animals]</td>\n",
       "    </tr>\n",
       "    <tr>\n",
       "      <th>NAME_PORTFOLIO</th>\n",
       "      <td>[POS, Cash, Cards, XNA, Cars]</td>\n",
       "    </tr>\n",
       "    <tr>\n",
       "      <th>NAME_PRODUCT_TYPE</th>\n",
       "      <td>[XNA, x-sell, walk-in]</td>\n",
       "    </tr>\n",
       "    <tr>\n",
       "      <th>CHANNEL_TYPE</th>\n",
       "      <td>[Country-wide, Contact center, Credit and cash offices, Regional / Local, Stone, AP+ (Cash loan), Channel of corporate sales, Car dealer]</td>\n",
       "    </tr>\n",
       "    <tr>\n",
       "      <th>NAME_SELLER_INDUSTRY</th>\n",
       "      <td>[Connectivity, XNA, Industry, Consumer electronics, Furniture, Construction, Clothing, Jewelry, Auto technology, MLM partners, Tourism]</td>\n",
       "    </tr>\n",
       "    <tr>\n",
       "      <th>NAME_YIELD_GROUP</th>\n",
       "      <td>[middle, low_action, high, low_normal, XNA]</td>\n",
       "    </tr>\n",
       "    <tr>\n",
       "      <th>PRODUCT_COMBINATION</th>\n",
       "      <td>[POS mobile with interest, Cash X-Sell: low, Cash X-Sell: high, Cash X-Sell: middle, Cash Street: high, POS other with interest, POS household with interest, Card X-Sell, POS household without interest, POS mobile without interest, Card Street, POS industry with interest, Cash Street: low, POS industry without interest, Cash, Cash Street: middle, POS others without interest]</td>\n",
       "    </tr>\n",
       "  </tbody>\n",
       "</table>\n",
       "</div>"
      ],
      "text/plain": [
       "                                                                                                                                                                                                                                                                                                                                                                                                                                                                     UNIQUE_VALUES\n",
       "ATTRIBUTE                                                                                                                                                                                                                                                                                                                                                                                                                                                                         \n",
       "NAME_CONTRACT_TYPE                                                                                                                                                                                                                                                                                                                                                                                                                   [Consumer loans, Cash loans, Revolving loans]\n",
       "WEEKDAY_APPR_PROCESS_START                                                                                                                                                                                                                                                                                                                                                                                        [SATURDAY, THURSDAY, TUESDAY, MONDAY, FRIDAY, WEDNESDAY, SUNDAY]\n",
       "FLAG_LAST_APPL_PER_CONTRACT                                                                                                                                                                                                                                                                                                                                                                                                                                                 [Y, N]\n",
       "NAME_CASH_LOAN_PURPOSE       [XAP, XNA, Repairs, Everyday expenses, Building a house or an annex, Other, Purchase of electronic equipment, Medicine, Payments on other loans, Urgent needs, Buying a used car, Buying a new car, Buying a holiday home / land, Education, Buying a home, Journey, Car repairs, Furniture, Buying a garage, Business development, Hobby, Wedding / gift / holiday, Gasification / water supply, Refusal to name the goal, Money for a third person]\n",
       "NAME_CONTRACT_STATUS                                                                                                                                                                                                                                                                                                                                                                                                                   [Approved, Refused, Unused offer, Canceled]\n",
       "NAME_PAYMENT_TYPE                                                                                                                                                                                                                                                                                                                                                              [Cash through the bank, XNA, Non-cash from your account, Cashless from the account of the employer]\n",
       "CODE_REJECT_REASON                                                                                                                                                                                                                                                                                                                                                                                                        [XAP, HC, LIMIT, SCOFR, CLIENT, SCO, XNA, VERIF, SYSTEM]\n",
       "NAME_TYPE_SUITE                                                                                                                                                                                                                                                                                                                                                                         [nan, Unaccompanied, Spouse, partner, Family, Children, Other_B, Other_A, Group of people]\n",
       "NAME_CLIENT_TYPE                                                                                                                                                                                                                                                                                                                                                                                                                                   [Repeater, New, Refreshed, XNA]\n",
       "NAME_GOODS_CATEGORY                                                                              [Mobile, XNA, Auto Accessories, Photo / Cinema Equipment, Audio/Video, Consumer Electronics, Computers, Medicine, Furniture, Sport and Leisure, Homewares, Clothing and Accessories, Gardening, Construction Materials, Jewelry, Vehicles, Medical Supplies, Other, Direct Sales, Office Appliances, Fitness, Education, Tourism, Insurance, Additional Service, Weapon, Animals]\n",
       "NAME_PORTFOLIO                                                                                                                                                                                                                                                                                                                                                                                                                                       [POS, Cash, Cards, XNA, Cars]\n",
       "NAME_PRODUCT_TYPE                                                                                                                                                                                                                                                                                                                                                                                                                                           [XNA, x-sell, walk-in]\n",
       "CHANNEL_TYPE                                                                                                                                                                                                                                                                                                                             [Country-wide, Contact center, Credit and cash offices, Regional / Local, Stone, AP+ (Cash loan), Channel of corporate sales, Car dealer]\n",
       "NAME_SELLER_INDUSTRY                                                                                                                                                                                                                                                                                                                       [Connectivity, XNA, Industry, Consumer electronics, Furniture, Construction, Clothing, Jewelry, Auto technology, MLM partners, Tourism]\n",
       "NAME_YIELD_GROUP                                                                                                                                                                                                                                                                                                                                                                                                                       [middle, low_action, high, low_normal, XNA]\n",
       "PRODUCT_COMBINATION                                                                      [POS mobile with interest, Cash X-Sell: low, Cash X-Sell: high, Cash X-Sell: middle, Cash Street: high, POS other with interest, POS household with interest, Card X-Sell, POS household without interest, POS mobile without interest, Card Street, POS industry with interest, Cash Street: low, POS industry without interest, Cash, Cash Street: middle, POS others without interest]"
      ]
     },
     "metadata": {},
     "output_type": "display_data"
    }
   ],
   "source": [
    "pd.set_option('display.max_colwidth', None)\n",
    "for key in dict_data.keys():\n",
    "    print(f\"\\nDataset {key}\")\n",
    "    display(unique_values(dict_data[key]))"
   ]
  },
  {
   "cell_type": "markdown",
   "metadata": {},
   "source": [
    "Se observan que algunos atributos contienen el valor XNA. Por ejemplo:\n",
    "- application_train: CODE_GENDER, ORGANIZATION_TYPE\n",
    "- bureau: STATUS\n",
    "- previous application: NAME_CONTRACT_TYPE\n",
    "\n",
    "Identificamos todos los atributos que contienen XNA en una lista y reemplazaremos XNA por nulos."
   ]
  },
  {
   "cell_type": "code",
   "execution_count": 15,
   "metadata": {},
   "outputs": [],
   "source": [
    "def attributes_containing_XNA(df):\n",
    "    columns_with_val = []\n",
    "    \n",
    "    # Iterar por las columnas y verificar si el valor está en alguna de las filas\n",
    "    for column in df.columns:\n",
    "        if 'XNA' in df[column].values:\n",
    "            columns_with_val.append(column)\n",
    "    print(f\"\\Columns with XNA value: {columns_with_val}.\")\n",
    "    df[columns_with_val]=df[columns_with_val].replace('XNA', np.nan)\n",
    "    print(f\"Column values replaced\")\n",
    "    \n",
    "    return columns_with_val"
   ]
  },
  {
   "cell_type": "code",
   "execution_count": 16,
   "metadata": {},
   "outputs": [
    {
     "name": "stdout",
     "output_type": "stream",
     "text": [
      "\n",
      "Dataset application_train:\n",
      "\\Columns with XNA value: ['CODE_GENDER', 'ORGANIZATION_TYPE'].\n",
      "Column values replaced\n",
      "\n",
      "Dataset bureau:\n",
      "\\Columns with XNA value: [].\n",
      "Column values replaced\n",
      "\n",
      "Dataset previous_application:\n",
      "\\Columns with XNA value: ['NAME_CASH_LOAN_PURPOSE', 'NAME_PAYMENT_TYPE', 'CODE_REJECT_REASON', 'NAME_CLIENT_TYPE', 'NAME_GOODS_CATEGORY', 'NAME_PORTFOLIO', 'NAME_PRODUCT_TYPE', 'NAME_SELLER_INDUSTRY', 'NAME_YIELD_GROUP'].\n",
      "Column values replaced\n"
     ]
    }
   ],
   "source": [
    "for key in dict_data.keys():\n",
    "    print(f\"\\nDataset {key}:\")\n",
    "    attributes_containing_XNA(dict_data[key])"
   ]
  },
  {
   "cell_type": "markdown",
   "metadata": {},
   "source": [
    "##### 3.2. Analizamos las columnas de tipo numérico (int y float).\n",
    "\n",
    "Para ello se utiliza la librería dtale, para hacer una exploración rápida"
   ]
  },
  {
   "cell_type": "code",
   "execution_count": null,
   "metadata": {},
   "outputs": [],
   "source": [
    "for key in dict_data.keys():\n",
    "    dtale_df = dt.show(dict_data[key])\n",
    "    dtale_df.open_browser()"
   ]
  },
  {
   "cell_type": "markdown",
   "metadata": {},
   "source": [
    "**Dataset application_train**\n",
    "\n",
    "Columnas referidas a edades (DAYS_BIRTH, DAYS_EMPLOYED, DAYS_REGISTRATION, DAYS_ID_PUBLISH) se presentan con valores negativos. Aunque puede parecer un error, se entiende que se mide con respecto a la fecha de solicitud de préstamo, por tanto representa la cantidad de días previos a la solicitud. \n",
    "\n",
    "No obstante se observa un valor inesperado para DAYS_EMPLOYED, donde el máximo es 365.243. Este valor además de no ser negativo, como se espera, si lo medimos en años resultan ser 365243/365=1000 años, lo cual no es posible. Analizamos si existen otros valores positivos para esta columna."
   ]
  },
  {
   "cell_type": "code",
   "execution_count": 22,
   "metadata": {},
   "outputs": [
    {
     "name": "stdout",
     "output_type": "stream",
     "text": [
      "Los valores positivos que se encuentran para la columna DAYS_EMPLOYED son: 365243\n",
      "Porcentaje de filas afectadas son: 14.21%\n"
     ]
    }
   ],
   "source": [
    "unique_positive_values=dict_data['application_train'].loc[dict_data['application_train']['DAYS_EMPLOYED']>0]['DAYS_EMPLOYED'].unique()\n",
    "qty_rows= dict_data['application_train'].loc[dict_data['application_train']['DAYS_EMPLOYED']>0]['DAYS_EMPLOYED'].count()\n",
    "\n",
    "print(f\"Los valores positivos que se encuentran para la columna DAYS_EMPLOYED son: {unique_positive_values[0]}\")\n",
    "print(f\"Porcentaje de filas afectadas son: {round(100*qty_rows/dict_data['application_train'].shape[0],2)}%\")"
   ]
  },
  {
   "cell_type": "markdown",
   "metadata": {},
   "source": [
    "El valor erroneo se encuentra en el 14.21% de las filas de application_train. Se reemplaza por nulo."
   ]
  },
  {
   "cell_type": "code",
   "execution_count": 23,
   "metadata": {},
   "outputs": [],
   "source": [
    "dict_data['application_train']['DAYS_EMPLOYED']=dict_data['application_train']['DAYS_EMPLOYED'].replace(365243, np.nan)"
   ]
  },
  {
   "cell_type": "markdown",
   "metadata": {},
   "source": [
    "Todos los campos indicando flags (FLAG_MOBIL, FLAG_EMP_PHONE, FLAG_WORK_PHONE, FLAG_CONT_MOBILE,FLAG_PHONE, FLAG_EMAIL, FLAG_DOCUMENT_xx ) contienen solo valores 0 o 1. Se valida el contenido."
   ]
  },
  {
   "cell_type": "markdown",
   "metadata": {},
   "source": [
    "CNT_CHILDREN es entero y positivo. \n",
    "CNT_FAM_MEMBERS está registrado como float aunque se entiende que debe ser entero. Estudiamos si existe algún valor decimal. De lo contrario transformamos la columna a entero."
   ]
  },
  {
   "cell_type": "code",
   "execution_count": 25,
   "metadata": {},
   "outputs": [
    {
     "data": {
      "text/plain": [
       "array([ 1.,  2.,  3.,  4.,  5.,  6.,  9.,  8., 10.,  7., 13., 14., 12.,\n",
       "       15., nan, 20., 16.])"
      ]
     },
     "execution_count": 25,
     "metadata": {},
     "output_type": "execute_result"
    }
   ],
   "source": [
    "dict_data['application_train']['CNT_FAM_MEMBERS'].unique()"
   ]
  },
  {
   "cell_type": "markdown",
   "metadata": {},
   "source": [
    "Todos son valores enteros, se transforma la columna a entero"
   ]
  },
  {
   "cell_type": "code",
   "execution_count": 26,
   "metadata": {},
   "outputs": [],
   "source": [
    "dict_data['application_train']['CNT_FAM_MEMBERS'] = dict_data['application_train']['CNT_FAM_MEMBERS'].astype('Int64')"
   ]
  },
  {
   "cell_type": "markdown",
   "metadata": {},
   "source": [
    "**Dataset PREVIOUS_APPLICATION**\n",
    "\n",
    "- AMT_ANNUITY, AMT_APPLICAITON, AMT_CREDIT contienen valores positivos, como se espera. \n",
    "- CNT_PAYMENT es float pero se entiende que debe ser entero. Realizamos la misma comprobación que para CNT_FAM_MEMBERS de application_train"
   ]
  },
  {
   "cell_type": "code",
   "execution_count": 27,
   "metadata": {},
   "outputs": [
    {
     "data": {
      "text/plain": [
       "array([12., 36., 24., 18., 54., 30.,  6.,  8.,  0., 10., 60., 48., nan,\n",
       "       42.,  5.,  4., 16., 20.,  7., 14.,  9., 22.,  3., 15., 11., 13.,\n",
       "       17., 26., 23., 38., 33., 72., 59., 34., 84., 28., 41., 66., 29.,\n",
       "       32., 44., 39., 40., 35., 19., 47., 45., 21., 53.])"
      ]
     },
     "execution_count": 27,
     "metadata": {},
     "output_type": "execute_result"
    }
   ],
   "source": [
    "dict_data['previous_application']['CNT_PAYMENT'].unique() "
   ]
  },
  {
   "cell_type": "markdown",
   "metadata": {},
   "source": [
    "Como todos los valores son enteros, se transforma la columna CNT_PAYMENT a entero"
   ]
  },
  {
   "cell_type": "code",
   "execution_count": 28,
   "metadata": {},
   "outputs": [],
   "source": [
    "dict_data['previous_application']['CNT_PAYMENT'] = dict_data['previous_application']['CNT_PAYMENT'].astype('Int64')"
   ]
  },
  {
   "cell_type": "markdown",
   "metadata": {},
   "source": [
    "Se estudian los campos que contienen días y por tanto, se espera que sean valores negativos puesto que se miden con respecto al pasado"
   ]
  },
  {
   "cell_type": "code",
   "execution_count": 29,
   "metadata": {},
   "outputs": [
    {
     "name": "stdout",
     "output_type": "stream",
     "text": [
      "\n",
      "Column DAYS_FIRST_DRAWING unique values higher than 0: [365243.0]\n",
      "\n",
      "Column DAYS_FIRST_DUE unique values higher than 0: [365243.0]\n",
      "\n",
      "Column DAYS_LAST_DUE_1ST_VERSION unique values higher than 0: [365243.0, 2389.0, 2098.0, 2090.0, 2032.0, 2016.0, 2011.0, 1993.0, 1990.0, 1954.0, 1947.0, 1941.0, 1800.0, 1798.0, 1797.0, 1795.0, 1793.0, 1792.0, 1791.0, 1790.0, 1788.0, 1785.0, 1784.0, 1783.0, 1782.0, 1781.0, 1780.0, 1779.0, 1778.0, 1777.0, 1776.0, 1774.0, 1773.0, 1772.0, 1771.0, 1770.0, 1769.0, 1768.0, 1767.0, 1766.0, 1765.0, 1764.0, 1763.0, 1762.0, 1760.0, 1759.0, 1758.0, 1757.0, 1756.0, 1755.0, 1753.0, 1752.0, 1751.0, 1750.0, 1749.0, 1748.0, 1747.0, 1746.0, 1745.0, 1744.0, 1743.0, 1742.0, 1741.0, 1740.0, 1739.0, 1738.0, 1737.0, 1736.0, 1735.0, 1734.0, 1733.0, 1731.0, 1730.0, 1729.0, 1728.0, 1727.0, 1726.0, 1725.0, 1724.0, 1723.0, 1722.0, 1721.0, 1720.0, 1719.0, 1718.0, 1717.0, 1716.0, 1715.0, 1714.0, 1713.0, 1712.0, 1711.0, 1710.0, 1709.0, 1708.0, 1707.0, 1706.0, 1705.0, 1704.0, 1703.0, 1702.0, 1701.0, 1700.0, 1699.0, 1698.0, 1697.0, 1696.0, 1695.0, 1694.0, 1693.0, 1692.0, 1691.0, 1690.0, 1689.0, 1688.0, 1687.0, 1686.0, 1685.0, 1684.0, 1683.0, 1682.0, 1681.0, 1680.0, 1679.0, 1678.0, 1677.0, 1676.0, 1675.0, 1674.0, 1673.0, 1672.0, 1671.0, 1670.0, 1669.0, 1668.0, 1667.0, 1666.0, 1665.0, 1664.0, 1663.0, 1662.0, 1661.0, 1660.0, 1659.0, 1658.0, 1657.0, 1656.0, 1655.0, 1654.0, 1653.0, 1652.0, 1651.0, 1650.0, 1649.0, 1648.0, 1647.0, 1646.0, 1645.0, 1644.0, 1643.0, 1642.0, 1641.0, 1640.0, 1639.0, 1638.0, 1637.0, 1636.0, 1635.0, 1634.0, 1633.0, 1632.0, 1631.0, 1630.0, 1629.0, 1628.0, 1627.0, 1626.0, 1625.0, 1624.0, 1623.0, 1622.0, 1621.0, 1620.0, 1619.0, 1618.0, 1617.0, 1616.0, 1615.0, 1614.0, 1613.0, 1612.0, 1611.0, 1610.0, 1609.0, 1608.0, 1607.0, 1606.0, 1605.0, 1604.0, 1603.0, 1602.0, 1601.0, 1600.0, 1599.0, 1598.0, 1597.0, 1596.0, 1595.0, 1594.0, 1593.0, 1592.0, 1591.0, 1590.0, 1589.0, 1588.0, 1587.0, 1586.0, 1585.0, 1584.0, 1583.0, 1582.0, 1581.0, 1580.0, 1579.0, 1578.0, 1577.0, 1576.0, 1575.0, 1574.0, 1573.0, 1572.0, 1571.0, 1570.0, 1569.0, 1568.0, 1567.0, 1566.0, 1565.0, 1564.0, 1563.0, 1562.0, 1561.0, 1560.0, 1559.0, 1558.0, 1557.0, 1556.0, 1555.0, 1554.0, 1553.0, 1552.0, 1551.0, 1550.0, 1549.0, 1548.0, 1547.0, 1546.0, 1545.0, 1544.0, 1543.0, 1542.0, 1541.0, 1540.0, 1539.0, 1538.0, 1537.0, 1536.0, 1535.0, 1534.0, 1533.0, 1532.0, 1531.0, 1530.0, 1529.0, 1528.0, 1527.0, 1526.0, 1525.0, 1524.0, 1523.0, 1522.0, 1521.0, 1520.0, 1519.0, 1518.0, 1517.0, 1516.0, 1515.0, 1514.0, 1513.0, 1512.0, 1511.0, 1510.0, 1509.0, 1508.0, 1507.0, 1506.0, 1505.0, 1504.0, 1503.0, 1502.0, 1501.0, 1500.0, 1499.0, 1498.0, 1497.0, 1496.0, 1495.0, 1494.0, 1493.0, 1492.0, 1491.0, 1490.0, 1489.0, 1488.0, 1487.0, 1486.0, 1485.0, 1484.0, 1483.0, 1482.0, 1481.0, 1480.0, 1479.0, 1478.0, 1477.0, 1476.0, 1475.0, 1474.0, 1473.0, 1472.0, 1471.0, 1470.0, 1469.0, 1468.0, 1467.0, 1466.0, 1465.0, 1464.0, 1463.0, 1462.0, 1461.0, 1460.0, 1459.0, 1458.0, 1457.0, 1456.0, 1455.0, 1454.0, 1453.0, 1452.0, 1451.0, 1450.0, 1449.0, 1448.0, 1447.0, 1446.0, 1445.0, 1444.0, 1443.0, 1442.0, 1441.0, 1440.0, 1439.0, 1438.0, 1437.0, 1436.0, 1435.0, 1434.0, 1433.0, 1432.0, 1431.0, 1430.0, 1429.0, 1428.0, 1427.0, 1426.0, 1425.0, 1424.0, 1423.0, 1422.0, 1421.0, 1420.0, 1419.0, 1418.0, 1417.0, 1416.0, 1415.0, 1414.0, 1413.0, 1412.0, 1411.0, 1410.0, 1409.0, 1408.0, 1407.0, 1406.0, 1405.0, 1404.0, 1403.0, 1402.0, 1401.0, 1400.0, 1399.0, 1398.0, 1397.0, 1396.0, 1395.0, 1394.0, 1393.0, 1392.0, 1391.0, 1390.0, 1389.0, 1388.0, 1387.0, 1386.0, 1385.0, 1384.0, 1383.0, 1382.0, 1381.0, 1380.0, 1379.0, 1378.0, 1377.0, 1376.0, 1375.0, 1374.0, 1373.0, 1372.0, 1371.0, 1370.0, 1369.0, 1368.0, 1367.0, 1366.0, 1365.0, 1364.0, 1363.0, 1362.0, 1361.0, 1360.0, 1359.0, 1358.0, 1357.0, 1356.0, 1355.0, 1354.0, 1353.0, 1352.0, 1351.0, 1350.0, 1349.0, 1348.0, 1347.0, 1346.0, 1345.0, 1344.0, 1343.0, 1342.0, 1341.0, 1340.0, 1339.0, 1338.0, 1337.0, 1336.0, 1335.0, 1334.0, 1333.0, 1332.0, 1331.0, 1330.0, 1329.0, 1328.0, 1327.0, 1326.0, 1325.0, 1324.0, 1323.0, 1322.0, 1321.0, 1320.0, 1319.0, 1318.0, 1317.0, 1316.0, 1315.0, 1314.0, 1313.0, 1312.0, 1311.0, 1310.0, 1309.0, 1308.0, 1307.0, 1306.0, 1305.0, 1304.0, 1303.0, 1302.0, 1301.0, 1300.0, 1299.0, 1298.0, 1297.0, 1296.0, 1295.0, 1294.0, 1293.0, 1292.0, 1291.0, 1290.0, 1289.0, 1288.0, 1287.0, 1286.0, 1285.0, 1284.0, 1283.0, 1282.0, 1281.0, 1280.0, 1279.0, 1278.0, 1277.0, 1276.0, 1275.0, 1274.0, 1273.0, 1272.0, 1271.0, 1270.0, 1269.0, 1268.0, 1267.0, 1266.0, 1265.0, 1264.0, 1263.0, 1262.0, 1261.0, 1260.0, 1259.0, 1258.0, 1257.0, 1256.0, 1255.0, 1254.0, 1253.0, 1252.0, 1251.0, 1250.0, 1249.0, 1248.0, 1247.0, 1246.0, 1245.0, 1244.0, 1243.0, 1242.0, 1241.0, 1240.0, 1239.0, 1238.0, 1237.0, 1236.0, 1235.0, 1234.0, 1233.0, 1232.0, 1231.0, 1230.0, 1229.0, 1228.0, 1227.0, 1226.0, 1225.0, 1224.0, 1223.0, 1222.0, 1221.0, 1220.0, 1219.0, 1218.0, 1217.0, 1216.0, 1215.0, 1214.0, 1213.0, 1212.0, 1211.0, 1210.0, 1209.0, 1208.0, 1207.0, 1206.0, 1205.0, 1204.0, 1203.0, 1202.0, 1201.0, 1200.0, 1199.0, 1198.0, 1197.0, 1196.0, 1195.0, 1194.0, 1193.0, 1192.0, 1191.0, 1190.0, 1189.0, 1188.0, 1187.0, 1186.0, 1185.0, 1184.0, 1183.0, 1182.0, 1181.0, 1180.0, 1179.0, 1178.0, 1177.0, 1176.0, 1175.0, 1174.0, 1173.0, 1172.0, 1171.0, 1170.0, 1169.0, 1168.0, 1167.0, 1166.0, 1165.0, 1164.0, 1163.0, 1162.0, 1161.0, 1160.0, 1159.0, 1158.0, 1157.0, 1156.0, 1155.0, 1154.0, 1153.0, 1152.0, 1151.0, 1150.0, 1149.0, 1148.0, 1147.0, 1146.0, 1145.0, 1144.0, 1143.0, 1142.0, 1141.0, 1140.0, 1139.0, 1138.0, 1137.0, 1136.0, 1135.0, 1134.0, 1133.0, 1132.0, 1131.0, 1130.0, 1129.0, 1128.0, 1127.0, 1126.0, 1125.0, 1124.0, 1123.0, 1122.0, 1121.0, 1120.0, 1119.0, 1118.0, 1117.0, 1116.0, 1115.0, 1114.0, 1113.0, 1112.0, 1111.0, 1110.0, 1109.0, 1108.0, 1107.0, 1106.0, 1105.0, 1104.0, 1103.0, 1102.0, 1101.0, 1100.0, 1099.0, 1098.0, 1097.0, 1096.0, 1095.0, 1094.0, 1093.0, 1092.0, 1091.0, 1090.0, 1089.0, 1088.0, 1087.0, 1086.0, 1085.0, 1084.0, 1083.0, 1082.0, 1081.0, 1080.0, 1079.0, 1078.0, 1077.0, 1076.0, 1075.0, 1074.0, 1073.0, 1072.0, 1071.0, 1070.0, 1069.0, 1068.0, 1067.0, 1066.0, 1065.0, 1064.0, 1063.0, 1062.0, 1061.0, 1060.0, 1059.0, 1058.0, 1057.0, 1056.0, 1055.0, 1054.0, 1053.0, 1052.0, 1051.0, 1050.0, 1049.0, 1048.0, 1047.0, 1046.0, 1045.0, 1044.0, 1043.0, 1042.0, 1041.0, 1040.0, 1039.0, 1038.0, 1037.0, 1036.0, 1035.0, 1034.0, 1033.0, 1032.0, 1031.0, 1030.0, 1029.0, 1028.0, 1027.0, 1026.0, 1025.0, 1024.0, 1023.0, 1022.0, 1021.0, 1020.0, 1019.0, 1018.0, 1017.0, 1016.0, 1015.0, 1014.0, 1013.0, 1012.0, 1011.0, 1010.0, 1009.0, 1008.0, 1007.0, 1006.0, 1005.0, 1004.0, 1003.0, 1002.0, 1001.0, 1000.0, 999.0, 998.0, 997.0, 996.0, 995.0, 994.0, 993.0, 992.0, 991.0, 990.0, 989.0, 988.0, 987.0, 986.0, 985.0, 984.0, 983.0, 982.0, 981.0, 980.0, 979.0, 978.0, 977.0, 976.0, 975.0, 974.0, 973.0, 972.0, 971.0, 970.0, 969.0, 968.0, 967.0, 966.0, 965.0, 964.0, 963.0, 962.0, 961.0, 960.0, 959.0, 958.0, 957.0, 956.0, 955.0, 954.0, 953.0, 952.0, 951.0, 950.0, 949.0, 948.0, 947.0, 946.0, 945.0, 944.0, 943.0, 942.0, 941.0, 940.0, 939.0, 938.0, 937.0, 936.0, 935.0, 934.0, 933.0, 932.0, 931.0, 930.0, 929.0, 928.0, 927.0, 926.0, 925.0, 924.0, 923.0, 922.0, 921.0, 920.0, 919.0, 918.0, 917.0, 916.0, 915.0, 914.0, 913.0, 912.0, 911.0, 910.0, 909.0, 908.0, 907.0, 906.0, 905.0, 904.0, 903.0, 902.0, 901.0, 900.0, 899.0, 898.0, 897.0, 896.0, 895.0, 894.0, 893.0, 892.0, 891.0, 890.0, 889.0, 888.0, 887.0, 886.0, 885.0, 884.0, 883.0, 882.0, 881.0, 880.0, 879.0, 878.0, 877.0, 876.0, 875.0, 874.0, 873.0, 872.0, 871.0, 870.0, 869.0, 868.0, 867.0, 866.0, 865.0, 864.0, 863.0, 862.0, 861.0, 860.0, 859.0, 858.0, 857.0, 856.0, 855.0, 854.0, 853.0, 852.0, 851.0, 850.0, 849.0, 848.0, 847.0, 846.0, 845.0, 844.0, 843.0, 842.0, 841.0, 840.0, 839.0, 838.0, 837.0, 836.0, 835.0, 834.0, 833.0, 832.0, 831.0, 830.0, 829.0, 828.0, 827.0, 826.0, 825.0, 824.0, 823.0, 822.0, 821.0, 820.0, 819.0, 818.0, 817.0, 816.0, 815.0, 814.0, 813.0, 812.0, 811.0, 810.0, 809.0, 808.0, 807.0, 806.0, 805.0, 804.0, 803.0, 802.0, 801.0, 800.0, 799.0, 798.0, 797.0, 796.0, 795.0, 794.0, 793.0, 792.0, 791.0, 790.0, 789.0, 788.0, 787.0, 786.0, 785.0, 784.0, 783.0, 782.0, 781.0, 780.0, 779.0, 778.0, 777.0, 776.0, 775.0, 774.0, 773.0, 772.0, 771.0, 770.0, 769.0, 768.0, 767.0, 766.0, 765.0, 764.0, 763.0, 762.0, 761.0, 760.0, 759.0, 758.0, 757.0, 756.0, 755.0, 754.0, 753.0, 752.0, 751.0, 750.0, 749.0, 748.0, 747.0, 746.0, 745.0, 744.0, 743.0, 742.0, 741.0, 740.0, 739.0, 738.0, 737.0, 736.0, 735.0, 734.0, 733.0, 732.0, 731.0, 730.0, 729.0, 728.0, 727.0, 726.0, 725.0, 724.0, 723.0, 722.0, 721.0, 720.0, 719.0, 718.0, 717.0, 716.0, 715.0, 714.0, 713.0, 712.0, 711.0, 710.0, 709.0, 708.0, 707.0, 706.0, 705.0, 704.0, 703.0, 702.0, 701.0, 700.0, 699.0, 698.0, 697.0, 696.0, 695.0, 694.0, 693.0, 692.0, 691.0, 690.0, 689.0, 688.0, 687.0, 686.0, 685.0, 684.0, 683.0, 682.0, 681.0, 680.0, 679.0, 678.0, 677.0, 676.0, 675.0, 674.0, 673.0, 672.0, 671.0, 670.0, 669.0, 668.0, 667.0, 666.0, 665.0, 664.0, 663.0, 662.0, 661.0, 660.0, 659.0, 658.0, 657.0, 656.0, 655.0, 654.0, 653.0, 652.0, 651.0, 650.0, 649.0, 648.0, 647.0, 646.0, 645.0, 644.0, 643.0, 642.0, 641.0, 640.0, 639.0, 638.0, 637.0, 636.0, 635.0, 634.0, 633.0, 632.0, 631.0, 630.0, 629.0, 628.0, 627.0, 626.0, 625.0, 624.0, 623.0, 622.0, 621.0, 620.0, 619.0, 618.0, 617.0, 616.0, 615.0, 614.0, 613.0, 612.0, 611.0, 610.0, 609.0, 608.0, 607.0, 606.0, 605.0, 604.0, 603.0, 602.0, 601.0, 600.0, 599.0, 598.0, 597.0, 596.0, 595.0, 594.0, 593.0, 592.0, 591.0, 590.0, 589.0, 588.0, 587.0, 586.0, 585.0, 584.0, 583.0, 582.0, 581.0, 580.0, 579.0, 578.0, 577.0, 576.0, 575.0, 574.0, 573.0, 572.0, 571.0, 570.0, 569.0, 568.0, 567.0, 566.0, 565.0, 564.0, 563.0, 562.0, 561.0, 560.0, 559.0, 558.0, 557.0, 556.0, 555.0, 554.0, 553.0, 552.0, 551.0, 550.0, 549.0, 548.0, 547.0, 546.0, 545.0, 544.0, 543.0, 542.0, 541.0, 540.0, 539.0, 538.0, 537.0, 536.0, 535.0, 534.0, 533.0, 532.0, 531.0, 530.0, 529.0, 528.0, 527.0, 526.0, 525.0, 524.0, 523.0, 522.0, 521.0, 520.0, 519.0, 518.0, 517.0, 516.0, 515.0, 514.0, 513.0, 512.0, 511.0, 510.0, 509.0, 508.0, 507.0, 506.0, 505.0, 504.0, 503.0, 502.0, 501.0, 500.0, 499.0, 498.0, 497.0, 496.0, 495.0, 494.0, 493.0, 492.0, 491.0, 490.0, 489.0, 488.0, 487.0, 486.0, 485.0, 484.0, 483.0, 482.0, 481.0, 480.0, 479.0, 478.0, 477.0, 476.0, 475.0, 474.0, 473.0, 472.0, 471.0, 470.0, 469.0, 468.0, 467.0, 466.0, 465.0, 464.0, 463.0, 462.0, 461.0, 460.0, 459.0, 458.0, 457.0, 456.0, 455.0, 454.0, 453.0, 452.0, 451.0, 450.0, 449.0, 448.0, 447.0, 446.0, 445.0, 444.0, 443.0, 442.0, 441.0, 440.0, 439.0, 438.0, 437.0, 436.0, 435.0, 434.0, 433.0, 432.0, 431.0, 430.0, 429.0, 428.0, 427.0, 426.0, 425.0, 424.0, 423.0, 422.0, 421.0, 420.0, 419.0, 418.0, 417.0, 416.0, 415.0, 414.0, 413.0, 412.0, 411.0, 410.0, 409.0, 408.0, 407.0, 406.0, 405.0, 404.0, 403.0, 402.0, 401.0, 400.0, 399.0, 398.0, 397.0, 396.0, 395.0, 394.0, 393.0, 392.0, 391.0, 390.0, 389.0, 388.0, 387.0, 386.0, 385.0, 384.0, 383.0, 382.0, 381.0, 380.0, 379.0, 378.0, 377.0, 376.0, 375.0, 374.0, 373.0, 372.0, 371.0, 370.0, 369.0, 368.0, 367.0, 366.0, 365.0, 364.0, 363.0, 362.0, 361.0, 360.0, 359.0, 358.0, 357.0, 356.0, 355.0, 354.0, 353.0, 352.0, 351.0, 350.0, 349.0, 348.0, 347.0, 346.0, 345.0, 344.0, 343.0, 342.0, 341.0, 340.0, 339.0, 338.0, 337.0, 336.0, 335.0, 334.0, 333.0, 332.0, 331.0, 330.0, 329.0, 328.0, 327.0, 326.0, 325.0, 324.0, 323.0, 322.0, 321.0, 320.0, 319.0, 318.0, 317.0, 316.0, 315.0, 314.0, 313.0, 312.0, 311.0, 310.0, 309.0, 308.0, 307.0, 306.0, 305.0, 304.0, 303.0, 302.0, 301.0, 300.0, 299.0, 298.0, 297.0, 296.0, 295.0, 294.0, 293.0, 292.0, 291.0, 290.0, 289.0, 288.0, 287.0, 286.0, 285.0, 284.0, 283.0, 282.0, 281.0, 280.0, 279.0, 278.0, 277.0, 276.0, 275.0, 274.0, 273.0, 272.0, 271.0, 270.0, 269.0, 268.0, 267.0, 266.0, 265.0, 264.0, 263.0, 262.0, 261.0, 260.0, 259.0, 258.0, 257.0, 256.0, 255.0, 254.0, 253.0, 252.0, 251.0, 250.0, 249.0, 248.0, 247.0, 246.0, 245.0, 244.0, 243.0, 242.0, 241.0, 240.0, 239.0, 238.0, 237.0, 236.0, 235.0, 234.0, 233.0, 232.0, 231.0, 230.0, 229.0, 228.0, 227.0, 226.0, 225.0, 224.0, 223.0, 222.0, 221.0, 220.0, 219.0, 218.0, 217.0, 216.0, 215.0, 214.0, 213.0, 212.0, 211.0, 210.0, 209.0, 208.0, 207.0, 206.0, 205.0, 204.0, 203.0, 202.0, 201.0, 200.0, 199.0, 198.0, 197.0, 196.0, 195.0, 194.0, 193.0, 192.0, 191.0, 190.0, 189.0, 188.0, 187.0, 186.0, 185.0, 184.0, 183.0, 182.0, 181.0, 180.0, 179.0, 178.0, 177.0, 176.0, 175.0, 174.0, 173.0, 172.0, 171.0, 170.0, 169.0, 168.0, 167.0, 166.0, 165.0, 164.0, 163.0, 162.0, 161.0, 160.0, 159.0, 158.0, 157.0, 156.0, 155.0, 154.0, 153.0, 152.0, 151.0, 150.0, 149.0, 148.0, 147.0, 146.0, 145.0, 144.0, 143.0, 142.0, 141.0, 140.0, 139.0, 138.0, 137.0, 136.0, 135.0, 134.0, 133.0, 132.0, 131.0, 130.0, 129.0, 128.0, 127.0, 126.0, 125.0, 124.0, 123.0, 122.0, 121.0, 120.0, 119.0, 118.0, 117.0, 116.0, 115.0, 114.0, 113.0, 112.0, 111.0, 110.0, 109.0, 108.0, 107.0, 106.0, 105.0, 104.0, 103.0, 102.0, 101.0, 100.0, 99.0, 98.0, 97.0, 96.0, 95.0, 94.0, 93.0, 92.0, 91.0, 90.0, 89.0, 88.0, 87.0, 86.0, 85.0, 84.0, 83.0, 82.0, 81.0, 80.0, 79.0, 78.0, 77.0, 76.0, 75.0, 74.0, 73.0, 72.0, 71.0, 70.0, 69.0, 68.0, 67.0, 66.0, 65.0, 64.0, 63.0, 62.0, 61.0, 60.0, 59.0, 58.0, 57.0, 56.0, 55.0, 54.0, 53.0, 52.0, 51.0, 50.0, 49.0, 48.0, 47.0, 46.0, 45.0, 44.0, 43.0, 42.0, 41.0, 40.0, 39.0, 38.0, 37.0, 36.0, 35.0, 34.0, 33.0, 32.0, 31.0, 30.0, 29.0, 28.0, 27.0, 26.0, 25.0, 24.0, 23.0, 22.0, 21.0, 20.0, 19.0, 18.0, 17.0, 16.0, 15.0, 14.0, 13.0, 12.0, 11.0, 10.0, 9.0, 8.0, 7.0, 6.0, 5.0, 4.0, 3.0, 2.0, 1.0]\n",
      "\n",
      "Column DAYS_LAST_DUE unique values higher than 0: [365243.0]\n",
      "\n",
      "Column DAYS_TERMINATION unique values higher than 0: [365243.0]\n"
     ]
    }
   ],
   "source": [
    "for col in ['DAYS_FIRST_DRAWING', 'DAYS_FIRST_DUE', 'DAYS_LAST_DUE_1ST_VERSION', 'DAYS_LAST_DUE', 'DAYS_TERMINATION']:\n",
    "    unique_values=list(dict_data['previous_application'].loc[dict_data['previous_application'][col]>0][col].unique())\n",
    "    print(f\"\\nColumn {col} unique values higher than 0: {sorted(unique_values,reverse=True)}\")"
   ]
  },
  {
   "cell_type": "markdown",
   "metadata": {},
   "source": [
    "Se encuentra el valor 365.243, analogo a DAYS_EMPLOYED de application_train. Es siguiente valor mayor, 2389 días corresponde a 6 años, de manera que es un valor posible. Se considera que el valor 365243 es erróneo, por tanto se reemplaza por nulo."
   ]
  },
  {
   "cell_type": "code",
   "execution_count": 30,
   "metadata": {},
   "outputs": [
    {
     "name": "stdout",
     "output_type": "stream",
     "text": [
      "\n",
      "Number of rows where column DAYS_FIRST_DRAWING is 365243: 799094\n",
      "Value replaced for null in column DAYS_FIRST_DRAWING\n",
      "\n",
      "Number of rows where column DAYS_FIRST_DUE is 365243: 33962\n",
      "Value replaced for null in column DAYS_FIRST_DUE\n",
      "\n",
      "Number of rows where column DAYS_LAST_DUE_1ST_VERSION is 365243: 273637\n",
      "Value replaced for null in column DAYS_LAST_DUE_1ST_VERSION\n",
      "\n",
      "Number of rows where column DAYS_LAST_DUE is 365243: 180792\n",
      "Value replaced for null in column DAYS_LAST_DUE\n",
      "\n",
      "Number of rows where column DAYS_TERMINATION is 365243: 194000\n",
      "Value replaced for null in column DAYS_TERMINATION\n"
     ]
    }
   ],
   "source": [
    "for col in ['DAYS_FIRST_DRAWING', 'DAYS_FIRST_DUE', 'DAYS_LAST_DUE_1ST_VERSION', 'DAYS_LAST_DUE', 'DAYS_TERMINATION']:\n",
    "    cnt=dict_data['previous_application'].loc[dict_data['previous_application'][col]>0][col].count()\n",
    "    print(f\"\\nNumber of rows where column {col} is 365243: {cnt}\")\n",
    "    dict_data['previous_application'][col]=dict_data['previous_application'][col].replace(365243, np.nan)\n",
    "    print(f\"Value replaced for null in column {col}\")"
   ]
  },
  {
   "cell_type": "markdown",
   "metadata": {},
   "source": [
    "**Dataset bureau**\n",
    "\n",
    "- Columnas que representan días: DAYS_CREDIT negativos, CREDIT_DAY_OVERDUE positivo, DAYS_CREDIT_ENDDATE positivo y negativo (tiene sentido refiriéndose a los creditos ya vencidos o que están por vencer), DAYS_ENDDATE_FACT negativos. Se valida el contenido\n",
    "- CNT_credit_prolong: valores positivos\n",
    "- AMT_CREDIT_SUM: positivos y max 396,000.\n",
    "- AMT_CREDIT_SUM_LIMIT: positivos y negativos\n",
    "- AMT_CREDIT_SUM_DEBT: tiene valores negativos y positivos. Consideramos que los negativos son erróneos.\n",
    "- AMT_CREDIT_SUM_OVERDUE: positivos"
   ]
  },
  {
   "cell_type": "markdown",
   "metadata": {},
   "source": [
    "Se estudia la proporción de registros que presentan valores negativos en AML_CREDIT_SUM_DEBT"
   ]
  },
  {
   "cell_type": "code",
   "execution_count": 35,
   "metadata": {},
   "outputs": [
    {
     "name": "stdout",
     "output_type": "stream",
     "text": [
      "La columna AML_CREDIT_SUM_DEBT presenta 0.58% de resigstros con valores negativos\n"
     ]
    }
   ],
   "source": [
    "# Calculate percentage of rows with negative values AML_CREDIT_SUM_DEBT\n",
    "num_rows=dict_data['bureau'].shape[0]\n",
    "neg_rows=len(dict_data['bureau'].loc[dict_data['bureau']['AMT_CREDIT_SUM_DEBT']<0])\n",
    "perc_negative=round(100*neg_rows/num_rows,2)\n",
    "print(f\"La columna AML_CREDIT_SUM_DEBT presenta {perc_negative}% de resigstros con valores negativos\")"
   ]
  },
  {
   "cell_type": "markdown",
   "metadata": {},
   "source": [
    "La proporción de valores negativos en AML_CREDIT_SUM_DEBT es muy baja. Reemplazaremos los valores negativos de deuda por 0."
   ]
  },
  {
   "cell_type": "code",
   "execution_count": 43,
   "metadata": {},
   "outputs": [],
   "source": [
    "dict_data['bureau']['AMT_CREDIT_SUM_DEBT']=dict_data['bureau']['AMT_CREDIT_SUM_DEBT'].clip(lower=0)"
   ]
  },
  {
   "cell_type": "markdown",
   "metadata": {},
   "source": [
    "#### 4. Revaluación de valores nulos tras las operaciones realizadas por la dimensión de exactitud"
   ]
  },
  {
   "cell_type": "markdown",
   "metadata": {},
   "source": [
    "Completitud de columnas"
   ]
  },
  {
   "cell_type": "code",
   "execution_count": 44,
   "metadata": {},
   "outputs": [
    {
     "name": "stdout",
     "output_type": "stream",
     "text": [
      "\n",
      "application_train - Percentatges of null values for each attribute:\n",
      "EXT_SOURCE_1                    44.161753\n",
      "LANDAREA_MODE                   36.776071\n",
      "LANDAREA_MEDI                   36.776071\n",
      "LANDAREA_AVG                    36.776071\n",
      "BASEMENTAREA_MEDI               35.437407\n",
      "BASEMENTAREA_MODE               35.437407\n",
      "BASEMENTAREA_AVG                35.437407\n",
      "NONLIVINGAREA_MEDI              30.243693\n",
      "NONLIVINGAREA_MODE              30.243693\n",
      "NONLIVINGAREA_AVG               30.243693\n",
      "ELEVATORS_AVG                   27.313308\n",
      "ELEVATORS_MEDI                  27.313308\n",
      "ELEVATORS_MODE                  27.313308\n",
      "OCCUPATION_TYPE                 25.358706\n",
      "WALLSMATERIAL_MODE              23.496217\n",
      "APARTMENTS_MODE                 23.355518\n",
      "APARTMENTS_MEDI                 23.355518\n",
      "APARTMENTS_AVG                  23.355518\n",
      "ENTRANCES_MODE                  22.725915\n",
      "ENTRANCES_MEDI                  22.725915\n",
      "ENTRANCES_AVG                   22.725915\n",
      "LIVINGAREA_MODE                 22.518916\n",
      "LIVINGAREA_AVG                  22.518916\n",
      "LIVINGAREA_MEDI                 22.518916\n",
      "HOUSETYPE_MODE                  22.474378\n",
      "FLOORSMAX_MODE                  21.814915\n",
      "FLOORSMAX_AVG                   21.814915\n",
      "FLOORSMAX_MEDI                  21.814915\n",
      "YEARS_BEGINEXPLUATATION_MEDI    20.337070\n",
      "YEARS_BEGINEXPLUATATION_AVG     20.337070\n",
      "YEARS_BEGINEXPLUATATION_MODE    20.337070\n",
      "TOTALAREA_MODE                  19.606752\n",
      "EMERGENCYSTATE_MODE             18.676013\n",
      "EXT_SOURCE_3                    15.300251\n",
      "DAYS_EMPLOYED                   14.205532\n",
      "ORGANIZATION_TYPE               14.205532\n",
      "AMT_REQ_CREDIT_BUREAU_MON       10.039730\n",
      "AMT_REQ_CREDIT_BUREAU_WEEK      10.039730\n",
      "AMT_REQ_CREDIT_BUREAU_QRT       10.039730\n",
      "AMT_REQ_CREDIT_BUREAU_HOUR      10.039730\n",
      "AMT_REQ_CREDIT_BUREAU_DAY       10.039730\n",
      "AMT_REQ_CREDIT_BUREAU_YEAR      10.039730\n",
      "NAME_TYPE_SUITE                  0.360857\n",
      "OBS_30_CNT_SOCIAL_CIRCLE         0.325430\n",
      "DEF_30_CNT_SOCIAL_CIRCLE         0.325430\n",
      "OBS_60_CNT_SOCIAL_CIRCLE         0.325430\n",
      "DEF_60_CNT_SOCIAL_CIRCLE         0.325430\n",
      "EXT_SOURCE_2                     0.158413\n",
      "AMT_GOODS_PRICE                  0.067313\n",
      "AMT_ANNUITY                      0.003037\n",
      "CODE_GENDER                      0.001518\n",
      "DAYS_LAST_PHONE_CHANGE           0.000506\n",
      "CNT_FAM_MEMBERS                  0.000506\n",
      "dtype: float64\n",
      "\n",
      "bureau - Percentatges of null values for each attribute:\n",
      "AMT_CREDIT_MAX_OVERDUE    64.421636\n",
      "DAYS_ENDDATE_FACT         36.616565\n",
      "AMT_CREDIT_SUM_LIMIT      32.829815\n",
      "AMT_CREDIT_SUM_DEBT       14.477195\n",
      "DAYS_CREDIT_ENDDATE        5.251936\n",
      "AMT_CREDIT_SUM             0.000069\n",
      "dtype: float64\n",
      "\n",
      "previous_application - Percentatges of null values for each attribute:\n",
      "DAYS_FIRST_DRAWING           95.302867\n",
      "NAME_PRODUCT_TYPE            54.904330\n",
      "NAME_GOODS_CATEGORY          45.911991\n",
      "DAYS_TERMINATION             42.178498\n",
      "RATE_DOWN_PAYMENT            41.689830\n",
      "AMT_DOWN_PAYMENT             41.689830\n",
      "DAYS_LAST_DUE                41.018899\n",
      "NAME_SELLER_INDUSTRY         38.894079\n",
      "NAME_TYPE_SUITE              36.874174\n",
      "DAYS_LAST_DUE_1ST_VERSION    32.090738\n",
      "NAME_CASH_LOAN_PURPOSE       29.323696\n",
      "DAYS_FIRST_DUE               28.127925\n",
      "NFLAG_INSURED_ON_APPROVAL    25.146223\n",
      "NAME_PAYMENT_TYPE            21.830373\n",
      "NAME_YIELD_GROUP             13.565329\n",
      "AMT_GOODS_PRICE               3.976510\n",
      "AMT_ANNUITY                   2.856155\n",
      "CNT_PAYMENT                   2.855803\n",
      "NAME_PORTFOLIO                2.855803\n",
      "CODE_REJECT_REASON            0.379890\n",
      "NAME_CLIENT_TYPE              0.063827\n",
      "dtype: float64\n"
     ]
    }
   ],
   "source": [
    "# For columns\n",
    "for key in dict_data.keys():\n",
    "    print(f\"\\n{key} - Percentatges of null values for each attribute:\")\n",
    "    missing_percentage = completeness_attributes(dict_data[key])\n",
    "    print(missing_percentage)"
   ]
  },
  {
   "cell_type": "markdown",
   "metadata": {},
   "source": [
    "La única columna que supera el 65% de nulos es DAYS_FIRST_DRAWING del dataset previous_application. La eliminamos."
   ]
  },
  {
   "cell_type": "code",
   "execution_count": 45,
   "metadata": {},
   "outputs": [
    {
     "name": "stdout",
     "output_type": "stream",
     "text": [
      "\n",
      "Dataset application_train\n",
      "Dropped columns: []\n",
      "Final shape: (197585, 105)\n",
      "\n",
      "Dataset bureau\n",
      "Dropped columns: []\n",
      "Final shape: (1452512, 16)\n",
      "\n",
      "Dataset previous_application\n",
      "Dropped columns: ['DAYS_FIRST_DRAWING']\n",
      "Final shape: (1139014, 34)\n"
     ]
    }
   ],
   "source": [
    "# Apply drop_nulls_columns to all datasets\n",
    "for key in dict_data.keys():\n",
    "    print(f\"\\nDataset {key}\")\n",
    "    dict_data[key] = drop_nulls_columns(dict_data[key])\n",
    "    print(f\"Final shape: {dict_data[key].shape}\")"
   ]
  },
  {
   "cell_type": "markdown",
   "metadata": {},
   "source": [
    "Completitud de filas"
   ]
  },
  {
   "cell_type": "code",
   "execution_count": 46,
   "metadata": {},
   "outputs": [
    {
     "name": "stdout",
     "output_type": "stream",
     "text": [
      "\n",
      "Dataset description: application_train\n",
      "Percentage of rows exceeding the accepted threshold of missing values: 0.12%\n",
      "\n",
      "Dataset description: bureau\n",
      "Percentage of rows exceeding the accepted threshold of missing values: 0.0%\n",
      "\n",
      "Dataset description: previous_application\n",
      "Percentage of rows exceeding the accepted threshold of missing values: 10.85%\n"
     ]
    }
   ],
   "source": [
    "# For rows\n",
    "for key in dict_data.keys():\n",
    "    print(f\"\\nDataset description: {key}\")\n",
    "    perc_rows_above_threshold = completeness_rows(dict_data[key], acceptance_threshold)\n",
    "    print(f\"Percentage of rows exceeding the accepted threshold of missing values: {perc_rows_above_threshold}%\")"
   ]
  },
  {
   "cell_type": "markdown",
   "metadata": {},
   "source": [
    "Eliminamos las filas que no cumplen el criterio del dataset application_train pues para los otros datasets se crearán nuevos atributos y se evaluará si los nulos se presentan en las columnas relevantes."
   ]
  },
  {
   "cell_type": "code",
   "execution_count": 47,
   "metadata": {},
   "outputs": [
    {
     "name": "stdout",
     "output_type": "stream",
     "text": [
      "Number of rows deleted: 238. New shape of previous_application: (197347, 105)\n"
     ]
    }
   ],
   "source": [
    "dict_data['application_train'] = drop_nulls_rows(dict_data['application_train'])"
   ]
  },
  {
   "cell_type": "markdown",
   "metadata": {},
   "source": [
    "### Guardado de datasets en Preprocessed"
   ]
  },
  {
   "cell_type": "code",
   "execution_count": 52,
   "metadata": {},
   "outputs": [],
   "source": [
    "for key in dict_data.keys():\n",
    "    dict_data[key].to_csv(\"../../data/preprocessed/\"+str(key)+\"_prep.csv\")"
   ]
  },
  {
   "cell_type": "markdown",
   "metadata": {},
   "source": [
    "Añadimos los csv preprocesados a dvc"
   ]
  }
 ],
 "metadata": {
  "kernelspec": {
   "display_name": ".venv",
   "language": "python",
   "name": "python3"
  },
  "language_info": {
   "codemirror_mode": {
    "name": "ipython",
    "version": 3
   },
   "file_extension": ".py",
   "mimetype": "text/x-python",
   "name": "python",
   "nbconvert_exporter": "python",
   "pygments_lexer": "ipython3",
   "version": "3.12.3"
  }
 },
 "nbformat": 4,
 "nbformat_minor": 2
}
